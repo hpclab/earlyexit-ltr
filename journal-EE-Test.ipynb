{
 "cells": [
  {
   "cell_type": "code",
   "execution_count": 1,
   "id": "fatty-copper",
   "metadata": {},
   "outputs": [
    {
     "name": "stdout",
     "output_type": "stream",
     "text": [
      "1.5.4\n"
     ]
    }
   ],
   "source": [
    "import os\n",
    "import tqdm\n",
    "import json\n",
    "from tqdm import tqdm_notebook, notebook\n",
    "from collections import defaultdict\n",
    "import pandas as pd\n",
    "import matplotlib.pyplot as plt\n",
    "import matplotlib as mlp\n",
    "import numpy as np\n",
    "import scipy as sc\n",
    "import time\n",
    "import copy\n",
    "import random as rng\n",
    "import lightgbm as lgb\n",
    "import cython\n",
    "from sklearn.metrics import classification_report, confusion_matrix, accuracy_score, f1_score, precision_score, recall_score\n",
    "from sklearn.utils import class_weight\n",
    "from rankeval.metrics import Metric, NDCG, DCG, MAP\n",
    "import rankeval\n",
    "import rankeval.analysis.statistical\n",
    "import rankeval.metrics\n",
    "from rankeval.dataset import Dataset\n",
    "from rankeval.model import RTEnsemble\n",
    "from rankeval.analysis.feature import feature_importance\n",
    "from scipy.stats import entropy as kld\n",
    "import hyperopt\n",
    "from hyperopt import base\n",
    "import gc\n",
    "import timeit\n",
    "import sklearn as skl\n",
    "import keras\n",
    "from joblib import dump, load\n",
    "import seaborn as sns\n",
    "import itertools\n",
    "from enum import Enum\n",
    "from lightgbm.basic import LightGBMError\n",
    "from rankeval.analysis.statistical import _randomization as random_test\n",
    "import numpy, pandas, researchpy\n",
    "base.have_bson = False\n",
    "%load_ext Cython\n",
    "%matplotlib inline\n",
    "import scipy\n",
    "print(scipy.__version__)\n",
    "\n",
    "plt.rcParams.update({\n",
    "    \"text.usetex\": False,\n",
    "    \"font.family\": \"sans-serif\",\n",
    "    \"font.sans-serif\": [\"Helvetica\"]})"
   ]
  },
  {
   "cell_type": "markdown",
   "id": "respected-ending",
   "metadata": {},
   "source": [
    "### Here we define the feautes used by the classifier and the classification label, the 'oracle'"
   ]
  },
  {
   "cell_type": "code",
   "execution_count": 2,
   "id": "numeric-invalid",
   "metadata": {},
   "outputs": [],
   "source": [
    "def get_features(dataset, scores):\n",
    "    n_dataset_features = dataset.n_features\n",
    "    n_score_features = 4 # score, norm_score, rank, qsize\n",
    "    n_features = n_dataset_features + n_score_features\n",
    "    features = np.empty((dataset.n_instances, n_features ))\n",
    "    rank_idx = np.zeros((dataset.n_instances,))\n",
    "    for rel_id, (qid, start, end) in enumerate(dataset.query_iterator()):\n",
    "        query_scores = scores[start:end]\n",
    "        query_range = query_scores.max() - query_scores.min()\n",
    "        norm_query_scores = (query_scores - query_scores.min()) / (query_range) if query_range != 0 else query_scores - query_scores.min()\n",
    "        query_ranks = np.argsort(query_scores, kind='stable')[::-1]\n",
    "        for rank, doc in enumerate(query_ranks):\n",
    "            rank_idx[start + doc] = rank\n",
    "        \n",
    "        features[start:end, :n_dataset_features] = dataset.X[start:end, :]\n",
    "        features[start:end, n_dataset_features + 0] = query_scores\n",
    "        features[start:end, n_dataset_features + 1] = norm_query_scores\n",
    "        features[start:end, n_dataset_features + 2] = rank_idx[start:end]\n",
    "        features[start:end, n_dataset_features + 3] = end - start\n",
    "    return features\n",
    "\n",
    "def get_oracle(dataset, scores, k, sort_by_rel=False, detailed=False, filtered=True):\n",
    "    mask = np.zeros(shape=(dataset.n_instances,))\n",
    "    details = np.zeros(shape=(dataset.n_queries,))\n",
    "    for rel_id, (qid, start, end) in enumerate(dataset.query_iterator()):\n",
    "        query_mask = np.zeros(shape=(end-start,))\n",
    "        true_rel = dataset.y[start : end]\n",
    "        if not sort_by_rel:\n",
    "            final_ranks = np.argsort(scores[start:end], kind='stable')[::-1]\n",
    "        else:\n",
    "            final_ranks = np.argsort(true_rel, kind='stable')[::-1]\n",
    "        top_k = final_ranks[:k] if k < (end - start) else final_ranks[:]\n",
    "        \n",
    "        if filtered:\n",
    "            top_k = np.array([r for r in top_k if true_rel[r] > 0 ], dtype=int)\n",
    "        query_mask[top_k] = 1.0\n",
    "        mask[start:end] = query_mask\n",
    "        details[rel_id] = query_mask.sum()\n",
    "    if detailed:\n",
    "        return mask, details\n",
    "    else:\n",
    "        return mask\n"
   ]
  },
  {
   "cell_type": "markdown",
   "id": "critical-conference",
   "metadata": {},
   "source": [
    "### The SDCG uses a stable sort, this makes it behave in the same way as Quickscorer which is in C++"
   ]
  },
  {
   "cell_type": "code",
   "execution_count": 3,
   "id": "super-influence",
   "metadata": {},
   "outputs": [],
   "source": [
    "class SDCG(Metric):\n",
    "\n",
    "    def __init__(self, name='SDCG', cutoff=None, implementation=\"flat\"):\n",
    "\n",
    "        super(SDCG, self).__init__(name)\n",
    "        self.cutoff = cutoff\n",
    "        self.implementation = implementation\n",
    "\n",
    "    def eval(self, dataset, y_pred):\n",
    "\n",
    "        return super(SDCG, self).eval(dataset, y_pred)\n",
    "\n",
    "    def eval_per_query(self, y, y_pred):\n",
    "        idx_y_pred_sorted = np.argsort(y_pred,kind='stable')[::-1]\n",
    "        if self.cutoff is not None:\n",
    "            idx_y_pred_sorted = idx_y_pred_sorted[:self.cutoff]\n",
    "\n",
    "        discount = np.log2(np.arange(2, idx_y_pred_sorted.size + 2))\n",
    "\n",
    "        if self.implementation == \"flat\":\n",
    "            gain = y[idx_y_pred_sorted]\n",
    "        elif self.implementation == \"exp\":\n",
    "            gain = np.exp2(y[idx_y_pred_sorted]) - 1.0\n",
    "\n",
    "        dcg = (gain / discount).sum()\n",
    "        return dcg\n",
    "\n",
    "    def __str__(self):\n",
    "        return self.name if self.cutoff is None else f'{self.name}@{self.cutoff}'\n",
    "\n",
    "class SNDCG(Metric):\n",
    "\n",
    "    def __init__(self, name='SNDCG', cutoff=None, no_relevant_results=1.0,\n",
    "                 implementation=\"exp\"):\n",
    "\n",
    "        super(self.__class__, self).__init__(name)\n",
    "        self.cutoff = cutoff\n",
    "        self.no_relevant_results = no_relevant_results\n",
    "        self.implementation = implementation\n",
    "        self.dcg = SDCG(cutoff=self.cutoff,\n",
    "                       implementation=self.implementation)\n",
    "\n",
    "        self._current_dataset = None\n",
    "        self._current_rel_qid = None\n",
    "        self._cache_idcg_score = defaultdict(int)\n",
    "\n",
    "    def eval(self, dataset, y_pred):\n",
    "        # used to cache ideal DCG scores on a dataset basis\n",
    "        self._current_dataset = dataset\n",
    "        self._current_rel_qid = 0\n",
    "\n",
    "        # Compute the ideal DCG scores only once and cache them\n",
    "        if self._current_dataset not in self._cache_idcg_score:\n",
    "\n",
    "            idcg_score = np.ndarray(shape=dataset.n_queries, dtype=np.float32)\n",
    "            for rel_id, (qid, q_y, _) in enumerate(\n",
    "                    self.query_iterator(dataset, dataset.y)):\n",
    "                idcg_score[rel_id] = self.dcg.eval_per_query(q_y, q_y)\n",
    "\n",
    "            self._cache_idcg_score[self._current_dataset] = idcg_score\n",
    "\n",
    "        return super(self.__class__, self).eval(dataset, y_pred)\n",
    "\n",
    "    def eval_per_query(self, y, y_pred):\n",
    "        dcg_score = self.dcg.eval_per_query(y, y_pred)\n",
    "\n",
    "        if self._current_rel_qid is not None:\n",
    "            idcg_score = \\\n",
    "                self._cache_idcg_score[self._current_dataset][self._current_rel_qid]\n",
    "            self._current_rel_qid += 1\n",
    "        else:\n",
    "            idcg_score = self.dcg.eval_per_query(y, y)\n",
    "\n",
    "        if idcg_score != 0:\n",
    "            ndcg = dcg_score / idcg_score\n",
    "        else:\n",
    "            ndcg = self.no_relevant_results\n",
    "        return ndcg\n",
    "\n",
    "    def __str__(self):\n",
    "        return self.name if self.cutoff is None else f'{self.name}@{self.cutoff}'\n",
    "\n",
    "    \n",
    "class UnBuiltSentinelError(Exception):\n",
    "    pass\n",
    "\n",
    "\n",
    "class DummyTransformer():\n",
    "    def __init__(self):\n",
    "        self.isFitted = False\n",
    "    def fit(self, D):\n",
    "        self.isFitted = True\n",
    "    def transform(self, D):\n",
    "        return D\n",
    "    def fit_transform(self, D):\n",
    "        self.fit(D)\n",
    "        return self.transform(D)\n",
    "\n",
    "\n",
    "\n"
   ]
  },
  {
   "cell_type": "markdown",
   "id": "referenced-treasurer",
   "metadata": {},
   "source": [
    "#### Define the dataset(s) location(s) and the random seed"
   ]
  },
  {
   "cell_type": "code",
   "execution_count": 4,
   "id": "joint-gibson",
   "metadata": {},
   "outputs": [],
   "source": [
    "istella_name = \"ISTELLA-FULL\"\n",
    "msn_name = \"MSN30KF1\"\n",
    "istella_path = '../datasets/ISTELLA/'\n",
    "msn_path = '../datasets/MSLR/Fold1'\n",
    "random_seed = 111\n",
    "\n",
    "datasets_name = [msn_name, istella_name]\n",
    "datasets_pairs = [(msn_name, msn_path),(istella_name, istella_path)]\n",
    "rstate = np.random.RandomState(random_seed)"
   ]
  },
  {
   "cell_type": "markdown",
   "id": "offensive-valuable",
   "metadata": {},
   "source": [
    "## Data Loading"
   ]
  },
  {
   "cell_type": "markdown",
   "id": "supported-dancing",
   "metadata": {},
   "source": [
    "### Datasets"
   ]
  },
  {
   "cell_type": "code",
   "execution_count": 5,
   "id": "strong-prairie",
   "metadata": {},
   "outputs": [],
   "source": [
    "rankeval_datasets = {}\n",
    "for dataset_name, dataset_path in datasets_pairs:\n",
    "    rankeval_datasets[dataset_name] = dict([\n",
    "        (split, Dataset.load(os.path.join(dataset_path, split + '.txt'), name=\"{} {}\".format(dataset_name, split.capitalize()))) for split in [ 'train', 'vali', 'test']\n",
    "])"
   ]
  },
  {
   "cell_type": "markdown",
   "id": "parliamentary-boundary",
   "metadata": {},
   "source": [
    "### Ranking models"
   ]
  },
  {
   "cell_type": "code",
   "execution_count": 6,
   "id": "recorded-attribute",
   "metadata": {},
   "outputs": [
    {
     "name": "stdout",
     "output_type": "stream",
     "text": [
      "Model trained on MSN30KF1 has 1129 trees\n",
      "Model trained on ISTELLA-FULL has 1481 trees\n"
     ]
    }
   ],
   "source": [
    "rankeval_models_new = {}\n",
    "\n",
    "for dataset_name in datasets_name:\n",
    "    path_model = './data/rankers/gs_retrain-lgb-{}_ranker.txt'.format(dataset_name)\n",
    "    rankeval_models_new[dataset_name] = RTEnsemble(path_model, format='LightGBM')\n",
    "\n",
    "for dataset_name, model in rankeval_models_new.items():\n",
    "    print('Model trained on {} has {} trees'.format(dataset_name,model.n_trees))"
   ]
  },
  {
   "cell_type": "markdown",
   "id": "atlantic-radical",
   "metadata": {},
   "source": [
    "### Aux models, we also tried an aux trained to optimise for ndcg@20, ultimately we did not included in the paper"
   ]
  },
  {
   "cell_type": "code",
   "execution_count": 7,
   "id": "proper-department",
   "metadata": {},
   "outputs": [
    {
     "name": "stdout",
     "output_type": "stream",
     "text": [
      "Model trained on MSN30KF1 for ndcg@10 has 50 trees\n",
      "Model trained on ISTELLA-FULL for ndcg@10 has 50 trees\n",
      "Model trained on MSN30KF1 for ndcg@20 has 89 trees\n",
      "Model trained on ISTELLA-FULL for ndcg@20 has 100 trees\n"
     ]
    }
   ],
   "source": [
    "rankeval_models_aux10 = {}\n",
    "rankeval_models_aux20 = {}\n",
    "\n",
    "for dataset_name in datasets_name:\n",
    "    path_model_10 = './data/rankers/gs50_aux_10_{}.txt'.format(dataset_name)\n",
    "    path_model_20 = './data/rankers/gs_aux_20_{}.txt'.format(dataset_name)\n",
    "    rankeval_models_aux10[dataset_name] = RTEnsemble(path_model_10, format='LightGBM')\n",
    "    rankeval_models_aux20[dataset_name] = RTEnsemble(path_model_20, format='LightGBM')\n",
    "\n",
    "for dataset_name, model in rankeval_models_aux10.items():\n",
    "    print('Model trained on {} for ndcg@10 has {} trees'.format(dataset_name,model.n_trees))\n",
    "\n",
    "for dataset_name, model in rankeval_models_aux20.items():\n",
    "    print('Model trained on {} for ndcg@20 has {} trees'.format(dataset_name,model.n_trees))"
   ]
  },
  {
   "cell_type": "code",
   "execution_count": 8,
   "id": "considered-burlington",
   "metadata": {},
   "outputs": [],
   "source": [
    "classification_datasets = {}\n",
    "for dataset_name in datasets_name:\n",
    "    classification_datasets[dataset_name] = {}\n",
    "    classification_datasets[dataset_name]['test'] = rankeval_datasets[dataset_name]['test']\n",
    "    classification_datasets[dataset_name]['train'], classification_datasets[dataset_name]['vali'] = rankeval_datasets[dataset_name]['vali'].split(train_size=0.80, random_state=rstate)"
   ]
  },
  {
   "cell_type": "markdown",
   "id": "anticipated-american",
   "metadata": {},
   "source": [
    "### Precompute tree by tree scores of both main ranking model and aux"
   ]
  },
  {
   "cell_type": "code",
   "execution_count": 9,
   "id": "interior-firmware",
   "metadata": {},
   "outputs": [
    {
     "data": {
      "application/vnd.jupyter.widget-view+json": {
       "model_id": "",
       "version_major": 2,
       "version_minor": 0
      },
      "text/plain": [
       "Datasets:   0%|          | 0/2 [00:00<?, ?it/s]"
      ]
     },
     "metadata": {},
     "output_type": "display_data"
    },
    {
     "data": {
      "application/vnd.jupyter.widget-view+json": {
       "model_id": "",
       "version_major": 2,
       "version_minor": 0
      },
      "text/plain": [
       "  0%|          | 0/3 [00:00<?, ?it/s]"
      ]
     },
     "metadata": {},
     "output_type": "display_data"
    },
    {
     "data": {
      "application/vnd.jupyter.widget-view+json": {
       "model_id": "",
       "version_major": 2,
       "version_minor": 0
      },
      "text/plain": [
       "  0%|          | 0/3 [00:00<?, ?it/s]"
      ]
     },
     "metadata": {},
     "output_type": "display_data"
    }
   ],
   "source": [
    "y_pred_rankeval = {}\n",
    "y_pred_along_training = {}\n",
    "execution_time = {}\n",
    "\n",
    "for dataset_name in tqdm.notebook.tqdm(datasets_name, leave=False, desc=\"Datasets\"):\n",
    "    \n",
    "    y_pred_rankeval[dataset_name] = {}\n",
    "    y_pred_along_training[dataset_name] = {}\n",
    "    execution_time[dataset_name] = {}\n",
    "    \n",
    "    for split in tqdm.notebook.tqdm(rankeval_datasets[dataset_name], leave=False):\n",
    "        start_t = timeit.default_timer()\n",
    "        y_pred_rankeval[dataset_name][split], y_partial_pred, _ = rankeval_models_new[dataset_name].score(classification_datasets[dataset_name][split], detailed=True)\n",
    "        elapsed = timeit.default_timer() - start_t\n",
    "        y_pred_along_training[dataset_name][split] = y_partial_pred.cumsum(axis=1)\n",
    "        execution_time[dataset_name][split] = elapsed"
   ]
  },
  {
   "cell_type": "code",
   "execution_count": 10,
   "id": "academic-firewall",
   "metadata": {},
   "outputs": [
    {
     "data": {
      "application/vnd.jupyter.widget-view+json": {
       "model_id": "",
       "version_major": 2,
       "version_minor": 0
      },
      "text/plain": [
       "Datasets:   0%|          | 0/2 [00:00<?, ?it/s]"
      ]
     },
     "metadata": {},
     "output_type": "display_data"
    },
    {
     "data": {
      "application/vnd.jupyter.widget-view+json": {
       "model_id": "",
       "version_major": 2,
       "version_minor": 0
      },
      "text/plain": [
       "  0%|          | 0/3 [00:00<?, ?it/s]"
      ]
     },
     "metadata": {},
     "output_type": "display_data"
    },
    {
     "data": {
      "application/vnd.jupyter.widget-view+json": {
       "model_id": "",
       "version_major": 2,
       "version_minor": 0
      },
      "text/plain": [
       "  0%|          | 0/3 [00:00<?, ?it/s]"
      ]
     },
     "metadata": {},
     "output_type": "display_data"
    }
   ],
   "source": [
    "y_pred_rankeval_aux_10 = {}\n",
    "y_pred_along_training_aux_10 = {}\n",
    "execution_time_aux_10 = {}\n",
    "y_pred_rankeval_aux_20 = {}\n",
    "y_pred_along_training_aux_20 = {}\n",
    "execution_time_aux_20 = {}\n",
    "for dataset_name in tqdm.notebook.tqdm(datasets_name, leave=False, desc=\"Datasets\"):\n",
    "    \n",
    "    y_pred_rankeval_aux_10[dataset_name] = {}\n",
    "    y_pred_along_training_aux_10[dataset_name] = {}\n",
    "    execution_time_aux_10[dataset_name] = {}\n",
    "    y_pred_rankeval_aux_20[dataset_name] = {}\n",
    "    y_pred_along_training_aux_20[dataset_name] = {}\n",
    "    execution_time_aux_20[dataset_name] = {}\n",
    "    \n",
    "    for split in tqdm.notebook.tqdm(rankeval_datasets[dataset_name], leave=False):\n",
    "        start_t = timeit.default_timer()\n",
    "        y_pred_rankeval_aux_10[dataset_name][split], y_partial_pred, _ = rankeval_models_aux10[dataset_name].score(classification_datasets[dataset_name][split], detailed=True)\n",
    "        elapsed = timeit.default_timer() - start_t\n",
    "        \n",
    "        y_pred_along_training_aux_10[dataset_name][split] = y_partial_pred.cumsum(axis=1)\n",
    "        execution_time_aux_10[dataset_name][split] = elapsed\n",
    "        \n",
    "        start_t = timeit.default_timer()\n",
    "        y_pred_rankeval_aux_20[dataset_name][split], y_partial_pred, _ = rankeval_models_aux20[dataset_name].score(classification_datasets[dataset_name][split], detailed=True)\n",
    "        elapsed = timeit.default_timer() - start_t\n",
    "        \n",
    "        y_pred_along_training_aux_20[dataset_name][split] = y_partial_pred.cumsum(axis=1)\n",
    "        execution_time_aux_20[dataset_name][split] = elapsed"
   ]
  },
  {
   "cell_type": "code",
   "execution_count": 11,
   "id": "descending-effort",
   "metadata": {},
   "outputs": [
    {
     "data": {
      "text/plain": [
       "142"
      ]
     },
     "execution_count": 11,
     "metadata": {},
     "output_type": "execute_result"
    }
   ],
   "source": [
    "rankeval_datasets = None\n",
    "gc.collect()"
   ]
  },
  {
   "cell_type": "code",
   "execution_count": 12,
   "id": "every-hardware",
   "metadata": {},
   "outputs": [],
   "source": [
    "dcg_10 = SDCG(cutoff=10, implementation='exp')\n",
    "ndcg_10 = SNDCG(cutoff=10, implementation='exp', no_relevant_results=1.0)"
   ]
  },
  {
   "cell_type": "code",
   "execution_count": 13,
   "id": "designing-mailing",
   "metadata": {},
   "outputs": [],
   "source": [
    "class EmptyModel():\n",
    "    \n",
    "    def predict(X):\n",
    "        return np.ones((X.shape[0],), dtype=np.float)\n",
    "\n",
    "class Strategy(Enum):\n",
    "    SENT = 1\n",
    "    AUX = 4\n",
    "    pass\n",
    "\n"
   ]
  },
  {
   "cell_type": "markdown",
   "id": "aboriginal-conditions",
   "metadata": {},
   "source": [
    "### Load the classifiers trained before, one for each strategy (aux and sent) and position (50,100, 200)"
   ]
  },
  {
   "cell_type": "code",
   "execution_count": 14,
   "id": "pacific-entry",
   "metadata": {},
   "outputs": [
    {
     "data": {
      "application/vnd.jupyter.widget-view+json": {
       "model_id": "f81d7a82e7eb4c9e8534943dcb3d7e01",
       "version_major": 2,
       "version_minor": 0
      },
      "text/plain": [
       "  0%|          | 0/2 [00:00<?, ?it/s]"
      ]
     },
     "metadata": {},
     "output_type": "display_data"
    },
    {
     "data": {
      "application/vnd.jupyter.widget-view+json": {
       "model_id": "2b90d08afda74ca4ac18d9b95de423e8",
       "version_major": 2,
       "version_minor": 0
      },
      "text/plain": [
       "  0%|          | 0/3 [00:00<?, ?it/s]"
      ]
     },
     "metadata": {},
     "output_type": "display_data"
    },
    {
     "data": {
      "application/vnd.jupyter.widget-view+json": {
       "model_id": "660b0970f245454485dc04133517ccd3",
       "version_major": 2,
       "version_minor": 0
      },
      "text/plain": [
       "  0%|          | 0/1 [00:00<?, ?it/s]"
      ]
     },
     "metadata": {},
     "output_type": "display_data"
    },
    {
     "data": {
      "application/vnd.jupyter.widget-view+json": {
       "model_id": "7690b29fc80146669fe9aa353410eccf",
       "version_major": 2,
       "version_minor": 0
      },
      "text/plain": [
       "  0%|          | 0/1 [00:00<?, ?it/s]"
      ]
     },
     "metadata": {},
     "output_type": "display_data"
    },
    {
     "data": {
      "application/vnd.jupyter.widget-view+json": {
       "model_id": "44a3e87cc5e44fb69ec3447f16b60efa",
       "version_major": 2,
       "version_minor": 0
      },
      "text/plain": [
       "  0%|          | 0/1 [00:00<?, ?it/s]"
      ]
     },
     "metadata": {},
     "output_type": "display_data"
    },
    {
     "data": {
      "application/vnd.jupyter.widget-view+json": {
       "model_id": "9ac87ddcbdae4813bf3dd02839bd8f3c",
       "version_major": 2,
       "version_minor": 0
      },
      "text/plain": [
       "  0%|          | 0/3 [00:00<?, ?it/s]"
      ]
     },
     "metadata": {},
     "output_type": "display_data"
    },
    {
     "data": {
      "application/vnd.jupyter.widget-view+json": {
       "model_id": "11297236270740cb8f38874b31b0f824",
       "version_major": 2,
       "version_minor": 0
      },
      "text/plain": [
       "  0%|          | 0/1 [00:00<?, ?it/s]"
      ]
     },
     "metadata": {},
     "output_type": "display_data"
    },
    {
     "data": {
      "application/vnd.jupyter.widget-view+json": {
       "model_id": "92a93cbe819743648fe8e846ce2ed6de",
       "version_major": 2,
       "version_minor": 0
      },
      "text/plain": [
       "  0%|          | 0/1 [00:00<?, ?it/s]"
      ]
     },
     "metadata": {},
     "output_type": "display_data"
    },
    {
     "data": {
      "application/vnd.jupyter.widget-view+json": {
       "model_id": "9936b6e59f0c485686a316fe09a41e22",
       "version_major": 2,
       "version_minor": 0
      },
      "text/plain": [
       "  0%|          | 0/1 [00:00<?, ?it/s]"
      ]
     },
     "metadata": {},
     "output_type": "display_data"
    },
    {
     "data": {
      "application/vnd.jupyter.widget-view+json": {
       "model_id": "23107a27b1504154aaa7ca727ac50064",
       "version_major": 2,
       "version_minor": 0
      },
      "text/plain": [
       "  0%|          | 0/3 [00:00<?, ?it/s]"
      ]
     },
     "metadata": {},
     "output_type": "display_data"
    },
    {
     "data": {
      "application/vnd.jupyter.widget-view+json": {
       "model_id": "0458d40067c3446fb9b4fa356f353412",
       "version_major": 2,
       "version_minor": 0
      },
      "text/plain": [
       "  0%|          | 0/1 [00:00<?, ?it/s]"
      ]
     },
     "metadata": {},
     "output_type": "display_data"
    },
    {
     "data": {
      "application/vnd.jupyter.widget-view+json": {
       "model_id": "a14cc9fd32f74f209e925bdcdbf47eba",
       "version_major": 2,
       "version_minor": 0
      },
      "text/plain": [
       "  0%|          | 0/1 [00:00<?, ?it/s]"
      ]
     },
     "metadata": {},
     "output_type": "display_data"
    },
    {
     "data": {
      "application/vnd.jupyter.widget-view+json": {
       "model_id": "74ff2d553c994ea8b113ba730940f18c",
       "version_major": 2,
       "version_minor": 0
      },
      "text/plain": [
       "  0%|          | 0/1 [00:00<?, ?it/s]"
      ]
     },
     "metadata": {},
     "output_type": "display_data"
    },
    {
     "data": {
      "application/vnd.jupyter.widget-view+json": {
       "model_id": "03273af471fc4b21bfb3122ea5c1bf8d",
       "version_major": 2,
       "version_minor": 0
      },
      "text/plain": [
       "  0%|          | 0/3 [00:00<?, ?it/s]"
      ]
     },
     "metadata": {},
     "output_type": "display_data"
    },
    {
     "data": {
      "application/vnd.jupyter.widget-view+json": {
       "model_id": "d67fab7bce9148f0983d54d270b9ae94",
       "version_major": 2,
       "version_minor": 0
      },
      "text/plain": [
       "  0%|          | 0/1 [00:00<?, ?it/s]"
      ]
     },
     "metadata": {},
     "output_type": "display_data"
    },
    {
     "data": {
      "application/vnd.jupyter.widget-view+json": {
       "model_id": "5b65f2fa90f54842b9da2bfd05fac6e5",
       "version_major": 2,
       "version_minor": 0
      },
      "text/plain": [
       "  0%|          | 0/1 [00:00<?, ?it/s]"
      ]
     },
     "metadata": {},
     "output_type": "display_data"
    },
    {
     "data": {
      "application/vnd.jupyter.widget-view+json": {
       "model_id": "5e02b65ba8344bdf83f47509b4920334",
       "version_major": 2,
       "version_minor": 0
      },
      "text/plain": [
       "  0%|          | 0/1 [00:00<?, ?it/s]"
      ]
     },
     "metadata": {},
     "output_type": "display_data"
    }
   ],
   "source": [
    "lgb_classifiers = {}\n",
    "for dataset_name in tqdm.notebook.tqdm(datasets_name):\n",
    "    lgb_classifiers[dataset_name] = {}\n",
    "    for strategy in Strategy:\n",
    "        lgb_classifiers[dataset_name][strategy] = {}\n",
    "        for position in tqdm.notebook.tqdm([50, 100, 200]):\n",
    "            lgb_classifiers[dataset_name][strategy][position] = {}\n",
    "            for k in tqdm.notebook.tqdm([10]):\n",
    "                try:\n",
    "                    model = lgb.Booster(model_file=f'./data/classifiers/GS_{dataset_name}_{strategy}_{position}_{k}_CLF.txt')\n",
    "                except LightGBMError:\n",
    "                    try:\n",
    "                        model = lgb.Booster(model_file=f'./data/classifiers/GS_{dataset_name}_{strategy}_{position}_{k}_CLF.txt')\n",
    "                    except LightGBMError:\n",
    "                        model = EmptyModel()\n",
    "                finally:\n",
    "                    lgb_classifiers[dataset_name][strategy][position][k] = model"
   ]
  },
  {
   "cell_type": "code",
   "execution_count": 15,
   "id": "hollywood-lambda",
   "metadata": {},
   "outputs": [],
   "source": [
    "def progressbar(iterable, name=''):\n",
    "    return tqdm.notebook.tqdm(iterable, desc=name, leave=False)\n",
    "\n",
    "def mask_scores(mask, initial_scores, final_scores):\n",
    "    mscores = final_scores.copy()\n",
    "    mscores[~mask] = initial_scores[~mask] - 1000\n",
    "    return mscores"
   ]
  },
  {
   "cell_type": "code",
   "execution_count": 16,
   "id": "similar-handle",
   "metadata": {},
   "outputs": [],
   "source": [
    "k_set = [10]\n",
    "positions = [50, 100, 200]"
   ]
  },
  {
   "cell_type": "code",
   "execution_count": 17,
   "id": "timely-couple",
   "metadata": {},
   "outputs": [],
   "source": [
    "def EPT_mask(dataset, scores, k, pt):\n",
    "    mask = np.zeros((dataset.n_instances,), dtype=np.bool)\n",
    "    for rel_id, (qid, start, end) in enumerate(dataset.query_iterator()):\n",
    "        query_scores = scores[start:end]\n",
    "        query_ranks = np.argsort(query_scores, kind='stable')[::-1]\n",
    "        top_k = query_ranks[:k]\n",
    "        kth_doc = top_k[-1]\n",
    "        kth_score = query_scores[kth_doc]\n",
    "        score_threshold = kth_score - pt\n",
    "        query_mask = query_scores >= score_threshold\n",
    "        mask[start:end] = query_mask\n",
    "    return mask"
   ]
  },
  {
   "cell_type": "code",
   "execution_count": 18,
   "id": "specified-prediction",
   "metadata": {},
   "outputs": [],
   "source": [
    "split = 'vali'\n",
    "alpha=0.05\n",
    "k_s = 10\n",
    "colors_ept = {50: 'blue', 100: 'red', 200: 'green', 'aux': 'orange'}\n",
    "colors_lear = {50: 'steelblue', 100: 'crimson', 200: 'darkgreen', 'aux': 'gold'}"
   ]
  },
  {
   "cell_type": "code",
   "execution_count": 19,
   "id": "interstate-matter",
   "metadata": {},
   "outputs": [],
   "source": [
    "dcg_10 = SDCG(cutoff=10, implementation='exp')\n",
    "ndcg_10 = SNDCG(cutoff=10, implementation='exp', no_relevant_results=1.0)"
   ]
  },
  {
   "cell_type": "code",
   "execution_count": 20,
   "id": "mathematical-british",
   "metadata": {},
   "outputs": [],
   "source": [
    "from statsmodels.stats.weightstats import ttost_ind\n",
    "from statsmodels.stats.weightstats import ttest_ind as ptest\n",
    "#from rankeval.analysis.statistical import _randomization as ptest"
   ]
  },
  {
   "cell_type": "code",
   "execution_count": 21,
   "id": "provincial-failing",
   "metadata": {},
   "outputs": [],
   "source": [
    "# import libraries\n",
    "import pandas\n",
    "import numpy\n",
    "from sklearn.utils import resample\n",
    "from sklearn.metrics import accuracy_score\n",
    "from matplotlib import pyplot as plt\n",
    "\n",
    "def compute_CI(reference, experiment, scale=1, B=1000, alpha=0.95):\n",
    "    x = reference - experiment\n",
    "    # configure bootstrap\n",
    "    n_iterations = B # here k=no. of bootstrapped samples\n",
    "    n_size = int(len(x))\n",
    "\n",
    "    # run bootstrap\n",
    "    medians = []\n",
    "    for i in range(n_iterations):\n",
    "        s = resample(x, n_samples=n_size);\n",
    "        m = numpy.median(s);\n",
    "        medians.append(m)\n",
    "\n",
    "    # plot scores\n",
    "    #plt.hist(medians)\n",
    "    #plt.show()\n",
    "\n",
    "    # confidence intervals\n",
    "    p = ((1.0-alpha)/2.0) * 100\n",
    "    lower =  numpy.percentile(medians, p)\n",
    "    p = (alpha+((1.0-alpha)/2.0)) * 100\n",
    "    upper =  numpy.percentile(medians, p)\n",
    "\n",
    "    return lower, upper"
   ]
  },
  {
   "cell_type": "markdown",
   "id": "dependent-camping",
   "metadata": {},
   "source": [
    "### Best overall k comparison"
   ]
  },
  {
   "cell_type": "code",
   "execution_count": 23,
   "id": "latter-vampire",
   "metadata": {},
   "outputs": [],
   "source": [
    "dcg_10 = SDCG(cutoff=10, implementation='exp')\n",
    "ndcg_10 = SNDCG(cutoff=10, implementation='exp', no_relevant_results=1.0)"
   ]
  },
  {
   "cell_type": "code",
   "execution_count": 24,
   "id": "continued-coalition",
   "metadata": {},
   "outputs": [
    {
     "data": {
      "application/vnd.jupyter.widget-view+json": {
       "model_id": "",
       "version_major": 2,
       "version_minor": 0
      },
      "text/plain": [
       "  0%|          | 0/2 [00:00<?, ?it/s]"
      ]
     },
     "metadata": {},
     "output_type": "display_data"
    },
    {
     "name": "stdout",
     "output_type": "stream",
     "text": [
      "----------AUX-----------\n"
     ]
    },
    {
     "data": {
      "application/vnd.jupyter.widget-view+json": {
       "model_id": "",
       "version_major": 2,
       "version_minor": 0
      },
      "text/plain": [
       "  0%|          | 0/20 [00:00<?, ?it/s]"
      ]
     },
     "metadata": {},
     "output_type": "display_data"
    },
    {
     "name": "stdout",
     "output_type": "stream",
     "text": [
      "EPT Strategy.AUX 0.30:: 0.5290 (-0.44%) 5.18x\n",
      "EPT Strategy.AUX 0.36:: 0.5299 (-0.26%) 4.73x\n",
      "EPT Strategy.AUX 0.43:: 0.5303 (-0.18%) 4.33x\n",
      "EPT Strategy.AUX 0.49:: 0.5305 (-0.15%) 3.97x\n",
      "EPT Strategy.AUX 0.55:: 0.5305 (-0.15%) 3.65x\n",
      "EPT Strategy.AUX 0.62:: 0.5308 (-0.10%) 3.36x\n",
      "EPT Strategy.AUX 0.68:: 0.5308 (-0.09%) 3.09x\n",
      "EPT Strategy.AUX 0.74:: 0.5307 (-0.11%) 2.85x\n",
      "EPT Strategy.AUX 0.81:: 0.5308 (-0.10%) 2.64x\n",
      "EPT Strategy.AUX 0.87:: 0.5310 (-0.06%) 2.46x\n",
      "EPT Strategy.AUX 0.93:: 0.5312 (-0.03%) 2.29x\n",
      "EPT Strategy.AUX 0.99:: 0.5312 (-0.02%) 2.15x\n",
      "EPT Strategy.AUX 1.06:: 0.5313 (0.00%) 2.02x\n",
      "EPT Strategy.AUX 1.12:: 0.5313 (0.00%) 1.90x\n",
      "EPT Strategy.AUX 1.18:: 0.5313 (-0.00%) 1.79x\n",
      "EPT Strategy.AUX 1.25:: 0.5313 (-0.00%) 1.70x\n",
      "EPT Strategy.AUX 1.31:: 0.5313 (-0.00%) 1.62x\n",
      "EPT Strategy.AUX 1.37:: 0.5313 (-0.00%) 1.54x\n",
      "EPT Strategy.AUX 1.44:: 0.5313 (-0.00%) 1.47x\n",
      "EPT Strategy.AUX 1.50:: 0.5313 (-0.00%) 1.42x\n"
     ]
    },
    {
     "data": {
      "application/vnd.jupyter.widget-view+json": {
       "model_id": "",
       "version_major": 2,
       "version_minor": 0
      },
      "text/plain": [
       "  0%|          | 0/3 [00:00<?, ?it/s]"
      ]
     },
     "metadata": {},
     "output_type": "display_data"
    },
    {
     "name": "stdout",
     "output_type": "stream",
     "text": [
      "-----50-------\n"
     ]
    },
    {
     "data": {
      "application/vnd.jupyter.widget-view+json": {
       "model_id": "",
       "version_major": 2,
       "version_minor": 0
      },
      "text/plain": [
       "  0%|          | 0/20 [00:00<?, ?it/s]"
      ]
     },
     "metadata": {},
     "output_type": "display_data"
    },
    {
     "name": "stdout",
     "output_type": "stream",
     "text": [
      "EPT 50 0.30:: 0.5272 (-0.77%) 4.18x\n",
      "EPT 50 0.36:: 0.5280 (-0.63%) 3.65x\n",
      "EPT 50 0.43:: 0.5288 (-0.46%) 3.22x\n",
      "EPT 50 0.49:: 0.5290 (-0.43%) 2.86x\n",
      "EPT 50 0.55:: 0.5295 (-0.34%) 2.56x\n",
      "EPT 50 0.62:: 0.5299 (-0.27%) 2.31x\n",
      "EPT 50 0.68:: 0.5303 (-0.18%) 2.10x\n",
      "EPT 50 0.74:: 0.5304 (-0.18%) 1.93x\n",
      "EPT 50 0.81:: 0.5304 (-0.16%) 1.78x\n",
      "EPT 50 0.87:: 0.5305 (-0.14%) 1.65x\n",
      "EPT 50 0.93:: 0.5308 (-0.10%) 1.54x\n",
      "EPT 50 0.99:: 0.5308 (-0.10%) 1.45x\n",
      "EPT 50 1.06:: 0.5308 (-0.10%) 1.38x\n",
      "EPT 50 1.12:: 0.5308 (-0.10%) 1.31x\n",
      "EPT 50 1.18:: 0.5308 (-0.10%) 1.26x\n",
      "EPT 50 1.25:: 0.5308 (-0.10%) 1.22x\n",
      "EPT 50 1.31:: 0.5308 (-0.10%) 1.18x\n",
      "EPT 50 1.37:: 0.5308 (-0.10%) 1.15x\n",
      "EPT 50 1.44:: 0.5308 (-0.10%) 1.13x\n",
      "EPT 50 1.50:: 0.5308 (-0.10%) 1.11x\n",
      "-----100-------\n"
     ]
    },
    {
     "data": {
      "application/vnd.jupyter.widget-view+json": {
       "model_id": "",
       "version_major": 2,
       "version_minor": 0
      },
      "text/plain": [
       "  0%|          | 0/20 [00:00<?, ?it/s]"
      ]
     },
     "metadata": {},
     "output_type": "display_data"
    },
    {
     "name": "stdout",
     "output_type": "stream",
     "text": [
      "EPT 100 0.30:: 0.5293 (-0.37%) 4.13x\n",
      "EPT 100 0.36:: 0.5292 (-0.40%) 3.79x\n",
      "EPT 100 0.43:: 0.5295 (-0.34%) 3.48x\n",
      "EPT 100 0.49:: 0.5301 (-0.23%) 3.19x\n",
      "EPT 100 0.55:: 0.5303 (-0.18%) 2.94x\n",
      "EPT 100 0.62:: 0.5304 (-0.17%) 2.71x\n",
      "EPT 100 0.68:: 0.5304 (-0.18%) 2.50x\n",
      "EPT 100 0.74:: 0.5305 (-0.15%) 2.32x\n",
      "EPT 100 0.81:: 0.5305 (-0.14%) 2.16x\n",
      "EPT 100 0.87:: 0.5307 (-0.11%) 2.02x\n",
      "EPT 100 0.93:: 0.5308 (-0.09%) 1.89x\n",
      "EPT 100 0.99:: 0.5308 (-0.09%) 1.78x\n",
      "EPT 100 1.06:: 0.5308 (-0.09%) 1.68x\n",
      "EPT 100 1.12:: 0.5308 (-0.10%) 1.59x\n",
      "EPT 100 1.18:: 0.5308 (-0.10%) 1.52x\n",
      "EPT 100 1.25:: 0.5312 (-0.01%) 1.45x\n",
      "EPT 100 1.31:: 0.5312 (-0.01%) 1.39x\n",
      "EPT 100 1.37:: 0.5313 (-0.00%) 1.34x\n",
      "EPT 100 1.44:: 0.5313 (-0.00%) 1.29x\n",
      "EPT 100 1.50:: 0.5313 (-0.00%) 1.25x\n",
      "-----200-------\n"
     ]
    },
    {
     "data": {
      "application/vnd.jupyter.widget-view+json": {
       "model_id": "",
       "version_major": 2,
       "version_minor": 0
      },
      "text/plain": [
       "  0%|          | 0/20 [00:00<?, ?it/s]"
      ]
     },
     "metadata": {},
     "output_type": "display_data"
    },
    {
     "name": "stdout",
     "output_type": "stream",
     "text": [
      "EPT 200 0.30:: 0.5294 (-0.36%) 3.31x\n",
      "EPT 200 0.36:: 0.5304 (-0.18%) 3.14x\n",
      "EPT 200 0.43:: 0.5306 (-0.13%) 2.99x\n",
      "EPT 200 0.49:: 0.5307 (-0.11%) 2.83x\n",
      "EPT 200 0.55:: 0.5306 (-0.13%) 2.68x\n",
      "EPT 200 0.62:: 0.5311 (-0.04%) 2.54x\n",
      "EPT 200 0.68:: 0.5311 (-0.03%) 2.40x\n",
      "EPT 200 0.74:: 0.5311 (-0.03%) 2.28x\n",
      "EPT 200 0.81:: 0.5313 (-0.01%) 2.15x\n",
      "EPT 200 0.87:: 0.5313 (-0.01%) 2.04x\n",
      "EPT 200 0.93:: 0.5313 (-0.00%) 1.94x\n",
      "EPT 200 0.99:: 0.5313 (-0.00%) 1.85x\n",
      "EPT 200 1.06:: 0.5313 (-0.00%) 1.76x\n",
      "EPT 200 1.12:: 0.5313 (-0.00%) 1.68x\n",
      "EPT 200 1.18:: 0.5313 (-0.00%) 1.61x\n",
      "EPT 200 1.25:: 0.5313 (-0.00%) 1.55x\n",
      "EPT 200 1.31:: 0.5313 (-0.00%) 1.49x\n",
      "EPT 200 1.37:: 0.5313 (-0.00%) 1.43x\n",
      "EPT 200 1.44:: 0.5313 (-0.00%) 1.38x\n",
      "EPT 200 1.50:: 0.5313 (-0.00%) 1.34x\n"
     ]
    },
    {
     "name": "stderr",
     "output_type": "stream",
     "text": [
      "/usr/local/lib/python3.6/dist-packages/matplotlib/font_manager.py:1241: UserWarning: findfont: Font family ['sans-serif'] not found. Falling back to DejaVu Sans.\n",
      "  (prop.get_family(), self.defaultFamily[fontext]))\n"
     ]
    },
    {
     "data": {
      "image/png": "[encoded data removed]",
      "text/plain": [
       "<Figure size 576x432 with 1 Axes>"
      ]
     },
     "metadata": {
      "needs_background": "light"
     },
     "output_type": "display_data"
    },
    {
     "name": "stdout",
     "output_type": "stream",
     "text": [
      "----------AUX-----------\n"
     ]
    },
    {
     "data": {
      "application/vnd.jupyter.widget-view+json": {
       "model_id": "",
       "version_major": 2,
       "version_minor": 0
      },
      "text/plain": [
       "  0%|          | 0/20 [00:00<?, ?it/s]"
      ]
     },
     "metadata": {},
     "output_type": "display_data"
    },
    {
     "name": "stdout",
     "output_type": "stream",
     "text": [
      "EPT Strategy.AUX 0.30:: 0.7240 (-0.95%) 13.74x\n",
      "EPT Strategy.AUX 0.36:: 0.7255 (-0.75%) 13.47x\n",
      "EPT Strategy.AUX 0.43:: 0.7262 (-0.65%) 13.20x\n",
      "EPT Strategy.AUX 0.49:: 0.7267 (-0.58%) 12.95x\n",
      "EPT Strategy.AUX 0.55:: 0.7275 (-0.47%) 12.70x\n",
      "EPT Strategy.AUX 0.62:: 0.7285 (-0.33%) 12.44x\n",
      "EPT Strategy.AUX 0.68:: 0.7287 (-0.30%) 12.20x\n",
      "EPT Strategy.AUX 0.74:: 0.7285 (-0.33%) 11.92x\n",
      "EPT Strategy.AUX 0.81:: 0.7287 (-0.30%) 11.67x\n",
      "EPT Strategy.AUX 0.87:: 0.7291 (-0.25%) 11.42x\n",
      "EPT Strategy.AUX 0.93:: 0.7293 (-0.22%) 11.20x\n",
      "EPT Strategy.AUX 0.99:: 0.7295 (-0.20%) 10.98x\n",
      "EPT Strategy.AUX 1.06:: 0.7296 (-0.19%) 10.76x\n",
      "EPT Strategy.AUX 1.12:: 0.7302 (-0.10%) 10.53x\n",
      "EPT Strategy.AUX 1.18:: 0.7303 (-0.09%) 10.32x\n",
      "EPT Strategy.AUX 1.25:: 0.7302 (-0.10%) 10.10x\n",
      "EPT Strategy.AUX 1.31:: 0.7300 (-0.13%) 9.88x\n",
      "EPT Strategy.AUX 1.37:: 0.7300 (-0.12%) 9.68x\n",
      "EPT Strategy.AUX 1.44:: 0.7299 (-0.14%) 9.46x\n",
      "EPT Strategy.AUX 1.50:: 0.7301 (-0.12%) 9.25x\n"
     ]
    },
    {
     "data": {
      "application/vnd.jupyter.widget-view+json": {
       "model_id": "",
       "version_major": 2,
       "version_minor": 0
      },
      "text/plain": [
       "  0%|          | 0/3 [00:00<?, ?it/s]"
      ]
     },
     "metadata": {},
     "output_type": "display_data"
    },
    {
     "name": "stdout",
     "output_type": "stream",
     "text": [
      "-----50-------\n"
     ]
    },
    {
     "data": {
      "application/vnd.jupyter.widget-view+json": {
       "model_id": "",
       "version_major": 2,
       "version_minor": 0
      },
      "text/plain": [
       "  0%|          | 0/20 [00:00<?, ?it/s]"
      ]
     },
     "metadata": {},
     "output_type": "display_data"
    },
    {
     "name": "stdout",
     "output_type": "stream",
     "text": [
      "EPT 50 0.30:: 0.7117 (-2.64%) 12.77x\n",
      "EPT 50 0.36:: 0.7149 (-2.19%) 12.31x\n",
      "EPT 50 0.43:: 0.7172 (-1.89%) 11.85x\n",
      "EPT 50 0.49:: 0.7196 (-1.55%) 11.38x\n",
      "EPT 50 0.55:: 0.7213 (-1.32%) 10.95x\n",
      "EPT 50 0.62:: 0.7223 (-1.18%) 10.54x\n",
      "EPT 50 0.68:: 0.7233 (-1.05%) 10.15x\n",
      "EPT 50 0.74:: 0.7243 (-0.90%) 9.74x\n",
      "EPT 50 0.81:: 0.7253 (-0.78%) 9.37x\n",
      "EPT 50 0.87:: 0.7255 (-0.75%) 9.00x\n",
      "EPT 50 0.93:: 0.7270 (-0.54%) 8.65x\n",
      "EPT 50 0.99:: 0.7275 (-0.47%) 8.29x\n",
      "EPT 50 1.06:: 0.7277 (-0.44%) 7.96x\n",
      "EPT 50 1.12:: 0.7281 (-0.38%) 7.64x\n",
      "EPT 50 1.18:: 0.7290 (-0.27%) 7.33x\n",
      "EPT 50 1.25:: 0.7298 (-0.16%) 7.05x\n",
      "EPT 50 1.31:: 0.7300 (-0.13%) 6.77x\n",
      "EPT 50 1.37:: 0.7302 (-0.10%) 6.52x\n",
      "EPT 50 1.44:: 0.7302 (-0.11%) 6.27x\n",
      "EPT 50 1.50:: 0.7304 (-0.07%) 6.02x\n",
      "-----100-------\n"
     ]
    },
    {
     "data": {
      "application/vnd.jupyter.widget-view+json": {
       "model_id": "",
       "version_major": 2,
       "version_minor": 0
      },
      "text/plain": [
       "  0%|          | 0/20 [00:00<?, ?it/s]"
      ]
     },
     "metadata": {},
     "output_type": "display_data"
    },
    {
     "name": "stdout",
     "output_type": "stream",
     "text": [
      "EPT 100 0.30:: 0.7187 (-1.67%) 9.37x\n",
      "EPT 100 0.36:: 0.7200 (-1.50%) 9.19x\n",
      "EPT 100 0.43:: 0.7209 (-1.37%) 9.02x\n",
      "EPT 100 0.49:: 0.7220 (-1.22%) 8.84x\n",
      "EPT 100 0.55:: 0.7225 (-1.15%) 8.66x\n",
      "EPT 100 0.62:: 0.7237 (-0.99%) 8.48x\n",
      "EPT 100 0.68:: 0.7248 (-0.84%) 8.31x\n",
      "EPT 100 0.74:: 0.7259 (-0.69%) 8.13x\n",
      "EPT 100 0.81:: 0.7269 (-0.56%) 7.97x\n",
      "EPT 100 0.87:: 0.7273 (-0.49%) 7.80x\n",
      "EPT 100 0.93:: 0.7279 (-0.41%) 7.65x\n",
      "EPT 100 0.99:: 0.7285 (-0.34%) 7.49x\n",
      "EPT 100 1.06:: 0.7290 (-0.26%) 7.32x\n",
      "EPT 100 1.12:: 0.7292 (-0.23%) 7.17x\n",
      "EPT 100 1.18:: 0.7294 (-0.21%) 7.02x\n",
      "EPT 100 1.25:: 0.7296 (-0.19%) 6.86x\n",
      "EPT 100 1.31:: 0.7301 (-0.11%) 6.71x\n",
      "EPT 100 1.37:: 0.7305 (-0.07%) 6.56x\n",
      "EPT 100 1.44:: 0.7305 (-0.06%) 6.41x\n",
      "EPT 100 1.50:: 0.7305 (-0.06%) 6.26x\n",
      "-----200-------\n"
     ]
    },
    {
     "data": {
      "application/vnd.jupyter.widget-view+json": {
       "model_id": "",
       "version_major": 2,
       "version_minor": 0
      },
      "text/plain": [
       "  0%|          | 0/20 [00:00<?, ?it/s]"
      ]
     },
     "metadata": {},
     "output_type": "display_data"
    },
    {
     "name": "stdout",
     "output_type": "stream",
     "text": [
      "EPT 200 0.30:: 0.7248 (-0.84%) 5.89x\n",
      "EPT 200 0.36:: 0.7254 (-0.76%) 5.84x\n",
      "EPT 200 0.43:: 0.7267 (-0.59%) 5.79x\n",
      "EPT 200 0.49:: 0.7269 (-0.55%) 5.74x\n",
      "EPT 200 0.55:: 0.7277 (-0.45%) 5.68x\n",
      "EPT 200 0.62:: 0.7281 (-0.39%) 5.63x\n",
      "EPT 200 0.68:: 0.7282 (-0.37%) 5.57x\n",
      "EPT 200 0.74:: 0.7286 (-0.32%) 5.51x\n",
      "EPT 200 0.81:: 0.7288 (-0.29%) 5.46x\n",
      "EPT 200 0.87:: 0.7295 (-0.20%) 5.40x\n",
      "EPT 200 0.93:: 0.7298 (-0.16%) 5.35x\n",
      "EPT 200 0.99:: 0.7301 (-0.12%) 5.30x\n",
      "EPT 200 1.06:: 0.7300 (-0.13%) 5.24x\n",
      "EPT 200 1.12:: 0.7303 (-0.09%) 5.18x\n",
      "EPT 200 1.18:: 0.7304 (-0.07%) 5.12x\n",
      "EPT 200 1.25:: 0.7305 (-0.05%) 5.07x\n",
      "EPT 200 1.31:: 0.7306 (-0.04%) 5.01x\n",
      "EPT 200 1.37:: 0.7306 (-0.04%) 4.95x\n",
      "EPT 200 1.44:: 0.7306 (-0.05%) 4.89x\n",
      "EPT 200 1.50:: 0.7308 (-0.02%) 4.83x\n"
     ]
    },
    {
     "data": {
      "image/png": "[encoded data removed]",
      "text/plain": [
       "<Figure size 576x432 with 1 Axes>"
      ]
     },
     "metadata": {
      "needs_background": "light"
     },
     "output_type": "display_data"
    }
   ],
   "source": [
    "for dataset_name in progressbar(datasets_name):\n",
    "    dataset = classification_datasets[dataset_name][split]\n",
    "    end_scores = y_pred_along_training[dataset_name][split][:, -1]\n",
    "    n = dataset.n_instances\n",
    "    m = y_pred_along_training[dataset_name][split].shape[1]\n",
    "    aux_t = y_pred_along_training_aux_10[dataset_name][split].shape[1]\n",
    "    base_cost = n * m\n",
    "    base_perf = ndcg_10.eval(dataset, end_scores)\n",
    "    sentinel_scores = y_pred_along_training_aux_10[dataset_name][split][:, -1]\n",
    "    speedups, metrics, stat_diffs = [], [], []\n",
    "    plt.figure(figsize=(8,6))\n",
    "    print('----------AUX-----------')\n",
    "    for pt in progressbar(np.linspace(0.3, 1.5, 20)):\n",
    "        y_pred = EPT_mask(dataset, sentinel_scores, k=10, pt=pt)\n",
    "        n_C = y_pred.sum()\n",
    "        masked_scores = mask_scores(y_pred, sentinel_scores, end_scores)\n",
    "        cost = n * aux_t + n_C * m \n",
    "        perf = ndcg_10.eval(dataset, masked_scores)\n",
    "        speedup = base_cost / cost\n",
    "        delta = -100 * (base_perf[0] - perf[0])/base_perf[0]\n",
    "        \n",
    "        pvalue = ptest(base_perf[1], perf[1])[1]\n",
    "        stat_diff = pvalue < alpha\n",
    "        stat_diffs.append(stat_diff)\n",
    "        speedups.append(speedup)\n",
    "        metrics.append(delta)\n",
    "        print(f'EPT {strategy} {pt:.2f}:: {perf[0]:.4f} ({delta:.2f}%) {speedup:.2f}x')\n",
    "    stat_diffs = np.array(stat_diffs)\n",
    "    speedups = np.array(speedups)\n",
    "    metrics = np.array(metrics)\n",
    "    plt.plot(speedups, metrics, label=rf'$t_{{pre}}$ = $|\\mathcal{{E}}_{{aux}}| = 50$', markersize=10, color=colors_ept['aux'])\n",
    "    plt.scatter(speedups[stat_diffs], metrics[stat_diffs], marker='d', s=75, c=colors_ept['aux'])\n",
    "    plt.scatter(speedups[~stat_diffs], metrics[~stat_diffs], marker='o', s=75, c = colors_ept['aux'])\n",
    "    \n",
    "    \n",
    "    for position in progressbar(positions):\n",
    "        print(f'-----{position}-------')\n",
    "        sentinel_scores = y_pred_along_training[dataset_name][split][:, position-1]\n",
    "        speedups, metrics, stat_diffs = [], [], []\n",
    "        for pt in progressbar(np.linspace(0.3, 1.5, 20)):\n",
    "            y_pred = EPT_mask(dataset, sentinel_scores, k=10, pt=pt)\n",
    "            n_C = y_pred.sum()\n",
    "            masked_scores = mask_scores(y_pred, sentinel_scores, end_scores)\n",
    "            cost = n * position +  n_C * (m - position) \n",
    "            perf = ndcg_10.eval(dataset, masked_scores)\n",
    "            speedup = base_cost / cost\n",
    "            delta = -100 * (base_perf[0] - perf[0])/base_perf[0]\n",
    "            speedups.append(speedup)\n",
    "            metrics.append(delta)\n",
    "            pvalue = ptest(base_perf[1], perf[1])[1]\n",
    "            stat_diff = pvalue < alpha\n",
    "            stat_diffs.append(stat_diff)\n",
    "            print(f'EPT {position} {pt:.2f}:: {perf[0]:.4f} ({delta:.2f}%) {speedup:.2f}x')\n",
    "        stat_diffs = np.array(stat_diffs)\n",
    "        speedups = np.array(speedups)\n",
    "        metrics = np.array(metrics)\n",
    "        plt.plot(speedups, metrics, label=rf'$t_{{pre}}$ = {position}', color=colors_ept[position])\n",
    "        plt.scatter(speedups[stat_diffs], metrics[stat_diffs], marker='d', s=75, c=colors_ept[position])\n",
    "        plt.scatter(speedups[~stat_diffs], metrics[~stat_diffs], marker='o', s=75, c = colors_ept[position])\n",
    "    \n",
    "    plt.ylim(( -1.05, 0.1))\n",
    "    plt.legend()\n",
    "    plt.grid(color='black', linestyle='--', linewidth=1, alpha=0.5)\n",
    "    plt.xlabel('Speedup')\n",
    "    plt.ylabel(r'$\\Delta$% NDCG@10')\n",
    "    \n",
    "    \n",
    "    y_ticks = plt.gca().get_yticks()\n",
    "    plt.gca().set_yticklabels(['{:.2f}'.format(x) for x in y_ticks])\n",
    "    \n",
    "    x_ticks = plt.gca().get_xticks()\n",
    "    plt.gca().set_xticklabels(['{:.2f}'.format(x) for x in x_ticks])\n",
    "    \n",
    "    plt.tight_layout(pad=0.4, w_pad=0.5, h_pad=1.0)\n",
    "    plt.savefig(f'./images/ept_aux_{dataset_name}.pdf', format='pdf', bbox_inches = \"tight\")\n",
    "    plt.show()"
   ]
  },
  {
   "cell_type": "markdown",
   "id": "elegant-authentication",
   "metadata": {},
   "source": [
    "### From values coming from above select positions and thresholds"
   ]
  },
  {
   "cell_type": "code",
   "execution_count": 25,
   "id": "polar-element",
   "metadata": {},
   "outputs": [],
   "source": [
    "best_positions ={\n",
    "    msn_name: {\n",
    "        'EPT' :{\n",
    "            Strategy.SENT: 200,\n",
    "            Strategy.AUX:  50\n",
    "        }\n",
    "    },\n",
    "    istella_name: {\n",
    "        'EPT' :{\n",
    "            Strategy.SENT: 100,\n",
    "            Strategy.AUX:  50\n",
    "        }\n",
    "    },\n",
    "}\n",
    "\n",
    "best_thresholds = {\n",
    "    msn_name: {\n",
    "        'EPT' :{\n",
    "            Strategy.SENT: [0.36, 0.42 ],\n",
    "            Strategy.AUX:  [0.36, 0.42 ]\n",
    "        }\n",
    "    },\n",
    "    istella_name: {\n",
    "        'EPT' :{\n",
    "            Strategy.SENT: [1.37, 1.50 ],\n",
    "            Strategy.AUX:  [1.12, 1.25 ]\n",
    "        }\n",
    "    },\n",
    "}"
   ]
  },
  {
   "cell_type": "markdown",
   "id": "coordinate-moscow",
   "metadata": {},
   "source": [
    "#### Fix k_s = 10. Choose sentinel postion for EPT_prefix and LEAR_prefix on the vaii set"
   ]
  },
  {
   "cell_type": "code",
   "execution_count": 27,
   "id": "immune-convergence",
   "metadata": {},
   "outputs": [],
   "source": [
    "k_s = 10"
   ]
  },
  {
   "cell_type": "markdown",
   "id": "positive-navigator",
   "metadata": {},
   "source": []
  },
  {
   "cell_type": "code",
   "execution_count": 28,
   "id": "integrated-adaptation",
   "metadata": {},
   "outputs": [],
   "source": [
    "dcg_10 = SDCG(cutoff=10, implementation='exp')\n",
    "ndcg_10 = SNDCG(cutoff=10, implementation='exp', no_relevant_results=1.0)"
   ]
  },
  {
   "cell_type": "code",
   "execution_count": 29,
   "id": "extra-knowing",
   "metadata": {},
   "outputs": [
    {
     "data": {
      "text/plain": [
       "{'MSN30KF1': {<Strategy.SENT: 1>: {50: {10: <lightgbm.basic.Booster at 0x7f3d9ed70518>},\n",
       "   100: {10: <lightgbm.basic.Booster at 0x7f3d9edd5908>},\n",
       "   200: {10: <lightgbm.basic.Booster at 0x7f3d9edd5390>}},\n",
       "  <Strategy.AUX: 4>: {50: {10: <lightgbm.basic.Booster at 0x7f3d9ee25198>},\n",
       "   100: {10: <lightgbm.basic.Booster at 0x7f3d9ee1d710>},\n",
       "   200: {10: <__main__.EmptyModel at 0x7f3d9ee1df28>}}},\n",
       " 'ISTELLA-FULL': {<Strategy.SENT: 1>: {50: {10: <lightgbm.basic.Booster at 0x7f3d9ed473c8>},\n",
       "   100: {10: <lightgbm.basic.Booster at 0x7f3d9eccc470>},\n",
       "   200: {10: <lightgbm.basic.Booster at 0x7f3d9eccc9b0>}},\n",
       "  <Strategy.AUX: 4>: {50: {10: <lightgbm.basic.Booster at 0x7f3d9ece27f0>},\n",
       "   100: {10: <lightgbm.basic.Booster at 0x7f3d9ece2e48>},\n",
       "   200: {10: <__main__.EmptyModel at 0x7f3d9ec7e630>}}}}"
      ]
     },
     "execution_count": 29,
     "metadata": {},
     "output_type": "execute_result"
    }
   ],
   "source": [
    "lgb_classifiers"
   ]
  },
  {
   "cell_type": "markdown",
   "id": "compound-momentum",
   "metadata": {},
   "source": [
    "#### Lear aux"
   ]
  },
  {
   "cell_type": "code",
   "execution_count": 30,
   "id": "accepting-entertainment",
   "metadata": {},
   "outputs": [],
   "source": [
    "dcg_10 = SDCG(cutoff=10, implementation='exp')\n",
    "ndcg_10 = SNDCG(cutoff=10, implementation='exp', no_relevant_results=1.0)"
   ]
  },
  {
   "cell_type": "code",
   "execution_count": null,
   "id": "proof-stretch",
   "metadata": {},
   "outputs": [],
   "source": []
  },
  {
   "cell_type": "code",
   "execution_count": 31,
   "id": "polished-circular",
   "metadata": {},
   "outputs": [
    {
     "data": {
      "application/vnd.jupyter.widget-view+json": {
       "model_id": "",
       "version_major": 2,
       "version_minor": 0
      },
      "text/plain": [
       "  0%|          | 0/2 [00:00<?, ?it/s]"
      ]
     },
     "metadata": {},
     "output_type": "display_data"
    },
    {
     "data": {
      "application/vnd.jupyter.widget-view+json": {
       "model_id": "",
       "version_major": 2,
       "version_minor": 0
      },
      "text/plain": [
       "  0%|          | 0/3 [00:00<?, ?it/s]"
      ]
     },
     "metadata": {},
     "output_type": "display_data"
    },
    {
     "name": "stdout",
     "output_type": "stream",
     "text": [
      "--------50-----------\n"
     ]
    },
    {
     "data": {
      "application/vnd.jupyter.widget-view+json": {
       "model_id": "",
       "version_major": 2,
       "version_minor": 0
      },
      "text/plain": [
       "  0%|          | 0/20 [00:00<?, ?it/s]"
      ]
     },
     "metadata": {},
     "output_type": "display_data"
    },
    {
     "name": "stdout",
     "output_type": "stream",
     "text": [
      "LEAR 50 0.10:: 0.5315 (0.04%) 2.75x\n",
      "LEAR 50 0.14:: 0.5313 (0.00%) 2.94x\n",
      "LEAR 50 0.18:: 0.5313 (0.01%) 3.10x\n",
      "LEAR 50 0.23:: 0.5313 (-0.00%) 3.24x\n",
      "LEAR 50 0.27:: 0.5316 (0.07%) 3.36x\n",
      "LEAR 50 0.31:: 0.5314 (0.02%) 3.47x\n",
      "LEAR 50 0.35:: 0.5318 (0.09%) 3.59x\n",
      "LEAR 50 0.39:: 0.5323 (0.19%) 3.70x\n",
      "LEAR 50 0.44:: 0.5328 (0.28%) 3.82x\n",
      "LEAR 50 0.48:: 0.5329 (0.30%) 3.94x\n",
      "LEAR 50 0.52:: 0.5329 (0.30%) 4.06x\n",
      "LEAR 50 0.56:: 0.5327 (0.27%) 4.19x\n",
      "LEAR 50 0.61:: 0.5329 (0.30%) 4.33x\n",
      "LEAR 50 0.65:: 0.5330 (0.33%) 4.49x\n",
      "LEAR 50 0.69:: 0.5330 (0.32%) 4.68x\n",
      "LEAR 50 0.73:: 0.5322 (0.17%) 4.89x\n",
      "LEAR 50 0.77:: 0.5311 (-0.03%) 5.13x\n",
      "LEAR 50 0.82:: 0.5293 (-0.37%) 5.44x\n",
      "LEAR 50 0.86:: 0.5271 (-0.79%) 5.87x\n",
      "LEAR 50 0.90:: 0.5252 (-1.15%) 6.48x\n",
      "--------100-----------\n"
     ]
    },
    {
     "data": {
      "application/vnd.jupyter.widget-view+json": {
       "model_id": "",
       "version_major": 2,
       "version_minor": 0
      },
      "text/plain": [
       "  0%|          | 0/20 [00:00<?, ?it/s]"
      ]
     },
     "metadata": {},
     "output_type": "display_data"
    },
    {
     "name": "stdout",
     "output_type": "stream",
     "text": [
      "LEAR 100 0.10:: 0.5315 (0.04%) 2.74x\n",
      "LEAR 100 0.14:: 0.5317 (0.08%) 2.90x\n",
      "LEAR 100 0.18:: 0.5319 (0.12%) 3.03x\n",
      "LEAR 100 0.23:: 0.5317 (0.08%) 3.14x\n",
      "LEAR 100 0.27:: 0.5320 (0.14%) 3.24x\n",
      "LEAR 100 0.31:: 0.5321 (0.15%) 3.33x\n",
      "LEAR 100 0.35:: 0.5320 (0.14%) 3.42x\n",
      "LEAR 100 0.39:: 0.5323 (0.19%) 3.50x\n",
      "LEAR 100 0.44:: 0.5321 (0.16%) 3.58x\n",
      "LEAR 100 0.48:: 0.5320 (0.12%) 3.66x\n",
      "LEAR 100 0.52:: 0.5319 (0.12%) 3.74x\n",
      "LEAR 100 0.56:: 0.5321 (0.15%) 3.83x\n",
      "LEAR 100 0.61:: 0.5324 (0.21%) 3.91x\n",
      "LEAR 100 0.65:: 0.5325 (0.24%) 4.01x\n",
      "LEAR 100 0.69:: 0.5322 (0.17%) 4.12x\n",
      "LEAR 100 0.73:: 0.5320 (0.13%) 4.25x\n",
      "LEAR 100 0.77:: 0.5315 (0.04%) 4.40x\n",
      "LEAR 100 0.82:: 0.5324 (0.21%) 4.58x\n",
      "LEAR 100 0.86:: 0.5309 (-0.07%) 4.82x\n",
      "LEAR 100 0.90:: 0.5303 (-0.19%) 5.15x\n",
      "--------200-----------\n"
     ]
    },
    {
     "data": {
      "application/vnd.jupyter.widget-view+json": {
       "model_id": "",
       "version_major": 2,
       "version_minor": 0
      },
      "text/plain": [
       "  0%|          | 0/20 [00:00<?, ?it/s]"
      ]
     },
     "metadata": {},
     "output_type": "display_data"
    },
    {
     "name": "stdout",
     "output_type": "stream",
     "text": [
      "LEAR 200 0.10:: 0.5314 (0.03%) 2.76x\n",
      "LEAR 200 0.14:: 0.5314 (0.01%) 2.84x\n",
      "LEAR 200 0.18:: 0.5314 (0.01%) 2.90x\n",
      "LEAR 200 0.23:: 0.5314 (0.02%) 2.95x\n",
      "LEAR 200 0.27:: 0.5318 (0.09%) 2.99x\n",
      "LEAR 200 0.31:: 0.5319 (0.11%) 3.03x\n",
      "LEAR 200 0.35:: 0.5319 (0.11%) 3.07x\n",
      "LEAR 200 0.39:: 0.5318 (0.11%) 3.11x\n",
      "LEAR 200 0.44:: 0.5316 (0.06%) 3.14x\n",
      "LEAR 200 0.48:: 0.5317 (0.08%) 3.18x\n",
      "LEAR 200 0.52:: 0.5316 (0.07%) 3.21x\n",
      "LEAR 200 0.56:: 0.5316 (0.06%) 3.25x\n",
      "LEAR 200 0.61:: 0.5321 (0.15%) 3.28x\n",
      "LEAR 200 0.65:: 0.5317 (0.09%) 3.32x\n",
      "LEAR 200 0.69:: 0.5322 (0.18%) 3.36x\n",
      "LEAR 200 0.73:: 0.5322 (0.17%) 3.41x\n",
      "LEAR 200 0.77:: 0.5320 (0.13%) 3.47x\n",
      "LEAR 200 0.82:: 0.5319 (0.12%) 3.54x\n",
      "LEAR 200 0.86:: 0.5317 (0.08%) 3.63x\n",
      "LEAR 200 0.90:: 0.5309 (-0.07%) 3.74x\n",
      "-----AUX------\n"
     ]
    },
    {
     "data": {
      "application/vnd.jupyter.widget-view+json": {
       "model_id": "",
       "version_major": 2,
       "version_minor": 0
      },
      "text/plain": [
       "  0%|          | 0/20 [00:00<?, ?it/s]"
      ]
     },
     "metadata": {},
     "output_type": "display_data"
    },
    {
     "name": "stdout",
     "output_type": "stream",
     "text": [
      "LEAR Strategy.AUX 0.10:: 0.5315 (0.04%) 3.07x\n",
      "LEAR Strategy.AUX 0.14:: 0.5313 (-0.00%) 3.27x\n",
      "LEAR Strategy.AUX 0.18:: 0.5315 (0.03%) 3.44x\n",
      "LEAR Strategy.AUX 0.23:: 0.5317 (0.08%) 3.57x\n",
      "LEAR Strategy.AUX 0.27:: 0.5319 (0.12%) 3.68x\n",
      "LEAR Strategy.AUX 0.31:: 0.5316 (0.06%) 3.79x\n",
      "LEAR Strategy.AUX 0.35:: 0.5316 (0.06%) 3.90x\n",
      "LEAR Strategy.AUX 0.39:: 0.5318 (0.10%) 3.99x\n",
      "LEAR Strategy.AUX 0.44:: 0.5320 (0.13%) 4.10x\n",
      "LEAR Strategy.AUX 0.48:: 0.5319 (0.11%) 4.20x\n",
      "LEAR Strategy.AUX 0.52:: 0.5318 (0.10%) 4.31x\n",
      "LEAR Strategy.AUX 0.56:: 0.5321 (0.15%) 4.43x\n",
      "LEAR Strategy.AUX 0.61:: 0.5323 (0.20%) 4.56x\n",
      "LEAR Strategy.AUX 0.65:: 0.5318 (0.09%) 4.69x\n",
      "LEAR Strategy.AUX 0.69:: 0.5319 (0.12%) 4.83x\n",
      "LEAR Strategy.AUX 0.73:: 0.5315 (0.04%) 5.02x\n",
      "LEAR Strategy.AUX 0.77:: 0.5311 (-0.03%) 5.23x\n",
      "LEAR Strategy.AUX 0.82:: 0.5307 (-0.12%) 5.48x\n",
      "LEAR Strategy.AUX 0.86:: 0.5299 (-0.26%) 5.83x\n",
      "LEAR Strategy.AUX 0.90:: 0.5276 (-0.70%) 6.37x\n",
      "---------\n"
     ]
    },
    {
     "data": {
      "image/png": "[encoded data removed]",
      "text/plain": [
       "<Figure size 576x432 with 1 Axes>"
      ]
     },
     "metadata": {
      "needs_background": "light"
     },
     "output_type": "display_data"
    },
    {
     "data": {
      "application/vnd.jupyter.widget-view+json": {
       "model_id": "",
       "version_major": 2,
       "version_minor": 0
      },
      "text/plain": [
       "  0%|          | 0/3 [00:00<?, ?it/s]"
      ]
     },
     "metadata": {},
     "output_type": "display_data"
    },
    {
     "name": "stdout",
     "output_type": "stream",
     "text": [
      "--------50-----------\n"
     ]
    },
    {
     "data": {
      "application/vnd.jupyter.widget-view+json": {
       "model_id": "",
       "version_major": 2,
       "version_minor": 0
      },
      "text/plain": [
       "  0%|          | 0/20 [00:00<?, ?it/s]"
      ]
     },
     "metadata": {},
     "output_type": "display_data"
    },
    {
     "name": "stdout",
     "output_type": "stream",
     "text": [
      "LEAR 50 0.10:: 0.7304 (-0.07%) 5.19x\n",
      "LEAR 50 0.14:: 0.7302 (-0.10%) 5.57x\n",
      "LEAR 50 0.18:: 0.7298 (-0.15%) 5.87x\n",
      "LEAR 50 0.23:: 0.7296 (-0.18%) 6.12x\n",
      "LEAR 50 0.27:: 0.7296 (-0.19%) 6.33x\n",
      "LEAR 50 0.31:: 0.7294 (-0.21%) 6.53x\n",
      "LEAR 50 0.35:: 0.7296 (-0.19%) 6.72x\n",
      "LEAR 50 0.39:: 0.7294 (-0.21%) 6.90x\n",
      "LEAR 50 0.44:: 0.7285 (-0.33%) 7.07x\n",
      "LEAR 50 0.48:: 0.7282 (-0.38%) 7.25x\n",
      "LEAR 50 0.52:: 0.7278 (-0.43%) 7.44x\n",
      "LEAR 50 0.56:: 0.7276 (-0.46%) 7.63x\n",
      "LEAR 50 0.61:: 0.7271 (-0.52%) 7.80x\n",
      "LEAR 50 0.65:: 0.7268 (-0.56%) 7.99x\n",
      "LEAR 50 0.69:: 0.7262 (-0.65%) 8.19x\n",
      "LEAR 50 0.73:: 0.7258 (-0.71%) 8.44x\n",
      "LEAR 50 0.77:: 0.7253 (-0.77%) 8.69x\n",
      "LEAR 50 0.82:: 0.7252 (-0.79%) 9.00x\n",
      "LEAR 50 0.86:: 0.7242 (-0.93%) 9.40x\n",
      "LEAR 50 0.90:: 0.7231 (-1.07%) 9.98x\n",
      "--------100-----------\n"
     ]
    },
    {
     "data": {
      "application/vnd.jupyter.widget-view+json": {
       "model_id": "",
       "version_major": 2,
       "version_minor": 0
      },
      "text/plain": [
       "  0%|          | 0/20 [00:00<?, ?it/s]"
      ]
     },
     "metadata": {},
     "output_type": "display_data"
    },
    {
     "name": "stdout",
     "output_type": "stream",
     "text": [
      "LEAR 100 0.10:: 0.7304 (-0.07%) 5.18x\n",
      "LEAR 100 0.14:: 0.7303 (-0.09%) 5.45x\n",
      "LEAR 100 0.18:: 0.7302 (-0.10%) 5.65x\n",
      "LEAR 100 0.23:: 0.7302 (-0.11%) 5.81x\n",
      "LEAR 100 0.27:: 0.7302 (-0.10%) 5.95x\n",
      "LEAR 100 0.31:: 0.7302 (-0.10%) 6.07x\n",
      "LEAR 100 0.35:: 0.7299 (-0.14%) 6.18x\n",
      "LEAR 100 0.39:: 0.7300 (-0.13%) 6.28x\n",
      "LEAR 100 0.44:: 0.7298 (-0.15%) 6.38x\n",
      "LEAR 100 0.48:: 0.7294 (-0.21%) 6.48x\n",
      "LEAR 100 0.52:: 0.7294 (-0.22%) 6.58x\n",
      "LEAR 100 0.56:: 0.7294 (-0.21%) 6.68x\n",
      "LEAR 100 0.61:: 0.7293 (-0.22%) 6.77x\n",
      "LEAR 100 0.65:: 0.7289 (-0.28%) 6.87x\n",
      "LEAR 100 0.69:: 0.7285 (-0.34%) 6.99x\n",
      "LEAR 100 0.73:: 0.7281 (-0.39%) 7.10x\n",
      "LEAR 100 0.77:: 0.7275 (-0.47%) 7.23x\n",
      "LEAR 100 0.82:: 0.7275 (-0.46%) 7.39x\n",
      "LEAR 100 0.86:: 0.7269 (-0.55%) 7.60x\n",
      "LEAR 100 0.90:: 0.7254 (-0.75%) 7.88x\n",
      "--------200-----------\n"
     ]
    },
    {
     "data": {
      "application/vnd.jupyter.widget-view+json": {
       "model_id": "",
       "version_major": 2,
       "version_minor": 0
      },
      "text/plain": [
       "  0%|          | 0/20 [00:00<?, ?it/s]"
      ]
     },
     "metadata": {},
     "output_type": "display_data"
    },
    {
     "name": "stdout",
     "output_type": "stream",
     "text": [
      "LEAR 200 0.10:: 0.7310 (0.00%) 4.45x\n",
      "LEAR 200 0.14:: 0.7309 (-0.01%) 4.56x\n",
      "LEAR 200 0.18:: 0.7308 (-0.02%) 4.64x\n",
      "LEAR 200 0.23:: 0.7306 (-0.04%) 4.71x\n",
      "LEAR 200 0.27:: 0.7305 (-0.06%) 4.76x\n",
      "LEAR 200 0.31:: 0.7307 (-0.03%) 4.81x\n",
      "LEAR 200 0.35:: 0.7305 (-0.06%) 4.85x\n",
      "LEAR 200 0.39:: 0.7303 (-0.09%) 4.88x\n",
      "LEAR 200 0.44:: 0.7302 (-0.10%) 4.92x\n",
      "LEAR 200 0.48:: 0.7300 (-0.13%) 4.95x\n",
      "LEAR 200 0.52:: 0.7300 (-0.13%) 4.99x\n",
      "LEAR 200 0.56:: 0.7298 (-0.16%) 5.03x\n",
      "LEAR 200 0.61:: 0.7297 (-0.17%) 5.06x\n",
      "LEAR 200 0.65:: 0.7298 (-0.16%) 5.10x\n",
      "LEAR 200 0.69:: 0.7299 (-0.14%) 5.13x\n",
      "LEAR 200 0.73:: 0.7297 (-0.17%) 5.18x\n",
      "LEAR 200 0.77:: 0.7293 (-0.22%) 5.22x\n",
      "LEAR 200 0.82:: 0.7287 (-0.30%) 5.28x\n",
      "LEAR 200 0.86:: 0.7285 (-0.33%) 5.34x\n",
      "LEAR 200 0.90:: 0.7273 (-0.49%) 5.42x\n",
      "-----AUX------\n"
     ]
    },
    {
     "data": {
      "application/vnd.jupyter.widget-view+json": {
       "model_id": "",
       "version_major": 2,
       "version_minor": 0
      },
      "text/plain": [
       "  0%|          | 0/20 [00:00<?, ?it/s]"
      ]
     },
     "metadata": {},
     "output_type": "display_data"
    },
    {
     "name": "stdout",
     "output_type": "stream",
     "text": [
      "LEAR Strategy.AUX 0.10:: 0.7311 (0.02%) 6.82x\n",
      "LEAR Strategy.AUX 0.14:: 0.7310 (0.01%) 7.18x\n",
      "LEAR Strategy.AUX 0.18:: 0.7311 (0.02%) 7.43x\n",
      "LEAR Strategy.AUX 0.23:: 0.7311 (0.02%) 7.64x\n",
      "LEAR Strategy.AUX 0.27:: 0.7311 (0.02%) 7.81x\n",
      "LEAR Strategy.AUX 0.31:: 0.7311 (0.02%) 7.97x\n",
      "LEAR Strategy.AUX 0.35:: 0.7311 (0.02%) 8.12x\n",
      "LEAR Strategy.AUX 0.39:: 0.7311 (0.02%) 8.27x\n",
      "LEAR Strategy.AUX 0.44:: 0.7313 (0.04%) 8.42x\n",
      "LEAR Strategy.AUX 0.48:: 0.7311 (0.03%) 8.56x\n",
      "LEAR Strategy.AUX 0.52:: 0.7311 (0.02%) 8.71x\n",
      "LEAR Strategy.AUX 0.56:: 0.7308 (-0.01%) 8.87x\n",
      "LEAR Strategy.AUX 0.61:: 0.7308 (-0.02%) 9.02x\n",
      "LEAR Strategy.AUX 0.65:: 0.7307 (-0.04%) 9.18x\n",
      "LEAR Strategy.AUX 0.69:: 0.7306 (-0.05%) 9.37x\n",
      "LEAR Strategy.AUX 0.73:: 0.7303 (-0.08%) 9.56x\n",
      "LEAR Strategy.AUX 0.77:: 0.7298 (-0.16%) 9.77x\n",
      "LEAR Strategy.AUX 0.82:: 0.7292 (-0.24%) 10.03x\n",
      "LEAR Strategy.AUX 0.86:: 0.7288 (-0.29%) 10.37x\n",
      "LEAR Strategy.AUX 0.90:: 0.7283 (-0.37%) 10.80x\n",
      "---------\n"
     ]
    },
    {
     "data": {
      "image/png": "[encoded data removed]",
      "text/plain": [
       "<Figure size 576x432 with 1 Axes>"
      ]
     },
     "metadata": {
      "needs_background": "light"
     },
     "output_type": "display_data"
    }
   ],
   "source": [
    "for dataset_name in progressbar(datasets_name):\n",
    "    dataset = classification_datasets[dataset_name][split]\n",
    "    end_scores = y_pred_along_training[dataset_name][split][:, -1]\n",
    "    n = dataset.n_instances\n",
    "    m = y_pred_along_training[dataset_name][split].shape[1]\n",
    "    aux_t = y_pred_along_training_aux_10[dataset_name][split].shape[1]\n",
    "    base_cost = n * m\n",
    "    base_perf = ndcg_10.eval(dataset, end_scores)\n",
    "    plt.figure(figsize=(8,6))\n",
    "    \n",
    "    \n",
    "    for position in progressbar(positions):\n",
    "        print(f'--------{position}-----------')\n",
    "        sentinel_scores = y_pred_along_training[dataset_name][split][:, position-1]\n",
    "        X = get_features(dataset, sentinel_scores)\n",
    "        clf = lgb_classifiers[dataset_name][Strategy.SENT][position][k_s]\n",
    "        clf_t = clf.num_trees()\n",
    "        confidences = clf.predict(X)\n",
    "        speedups, metrics, stat_diffs = [], [], []\n",
    "        for ct in progressbar(np.linspace(0.1, 0.90, 20)):\n",
    "            y_pred = confidences > ct\n",
    "            n_C = y_pred.sum()\n",
    "            masked_scores = mask_scores(y_pred, sentinel_scores, end_scores)\n",
    "            cost = n * position + n * clf_t + n_C * (m - position) \n",
    "            perf = ndcg_10.eval(dataset, masked_scores)\n",
    "            delta = -100 * (base_perf[0] - perf[0])/base_perf[0]\n",
    "            speedup = base_cost / cost\n",
    "            pvalue = ptest(base_perf[1], perf[1])[1]\n",
    "            stat_diff = pvalue < alpha\n",
    "            stat_diffs.append(stat_diff)\n",
    "            speedups.append(speedup)\n",
    "            metrics.append(delta)\n",
    "            print(f'LEAR {position} {ct:.2f}:: {perf[0]:.4f} ({delta:.2f}%) {speedup:.2f}x')\n",
    "        stat_diffs = np.array(stat_diffs)\n",
    "        speedups = np.array(speedups)\n",
    "        metrics = np.array(metrics)\n",
    "        \n",
    "        plt.plot(speedups, metrics, label=rf'$t_{{pre}}$ = {position}', color=colors_lear[position])\n",
    "        plt.scatter(speedups[stat_diffs], metrics[stat_diffs], marker='d', s=75, c=colors_lear[position])\n",
    "        plt.scatter(speedups[~stat_diffs], metrics[~stat_diffs], marker='o', s=75, c = colors_lear[position])    \n",
    "    \n",
    "    \n",
    "    print('-----AUX------')\n",
    "    sentinel_scores = y_pred_along_training_aux_10[dataset_name][split][:, -1]\n",
    "    X = get_features(dataset, sentinel_scores)\n",
    "    clf = lgb_classifiers[dataset_name][Strategy.AUX][50][k_s]\n",
    "    clf_t = clf.num_trees()\n",
    "    confidences = clf.predict(X)\n",
    "    speedups, metrics, stat_diffs = [], [], []\n",
    "    for ct in progressbar(np.linspace(0.1, 0.90, 20)):\n",
    "        y_pred = confidences > ct\n",
    "        n_C = y_pred.sum()\n",
    "        masked_scores = mask_scores(y_pred, sentinel_scores, end_scores)\n",
    "        cost = n * aux_t + n * clf_t + n_C * m \n",
    "        perf = ndcg_10.eval(dataset, masked_scores)\n",
    "        speedup = base_cost / cost\n",
    "        delta = -100 * (base_perf[0]- perf[0])/base_perf[0]\n",
    "        speedups.append(speedup)\n",
    "        metrics.append(delta)\n",
    "        pvalue = ptest(base_perf[1], perf[1])[1]\n",
    "        stat_diff = pvalue < alpha\n",
    "        stat_diffs.append(stat_diff)\n",
    "        print(f'LEAR {strategy} {ct:.2f}:: {perf[0]:.4f} ({delta:.2f}%) {speedup:.2f}x')\n",
    "    print('---------')\n",
    "    speedups = np.array(speedups)\n",
    "    metrics = np.array(metrics)\n",
    "    stat_diffs = np.array(stat_diffs)\n",
    "    \n",
    "    plt.plot(speedups, metrics, color=colors_lear['aux'], label=rf'$t_{{pre}}$ = |$\\mathcal{{E}}_{{aux}}| = 50$')\n",
    "    plt.scatter(speedups[stat_diffs], metrics[stat_diffs], marker='d', s=75, c=colors_lear['aux'])\n",
    "    plt.scatter(speedups[~stat_diffs], metrics[~stat_diffs], marker='o', s=75, c = colors_lear['aux'])\n",
    "    \n",
    "    plt.ylim((-1.05, 0.5))\n",
    "    plt.grid(color='black', linestyle='--', linewidth=1, alpha=0.5)\n",
    "    plt.xlabel('Speedup')\n",
    "    plt.ylabel(r'$\\Delta$% NDCG@10')\n",
    "    plt.legend()\n",
    "    y_ticks = plt.gca().get_yticks()\n",
    "    plt.gca().set_yticklabels(['{:.2f}'.format(x) for x in y_ticks])\n",
    "    \n",
    "    x_ticks = plt.gca().get_xticks()\n",
    "    plt.gca().set_xticklabels(['{:.2f}'.format(x) for x in x_ticks])\n",
    "    \n",
    "    plt.tight_layout(pad=0.4, w_pad=0.5, h_pad=1.0)\n",
    "    plt.savefig(f'./images/lear_aux_{dataset_name}.pdf', format='pdf', bbox_inches = \"tight\")\n",
    "    plt.show()"
   ]
  },
  {
   "cell_type": "code",
   "execution_count": 32,
   "id": "conscious-mining",
   "metadata": {},
   "outputs": [
    {
     "data": {
      "text/plain": [
       "32843"
      ]
     },
     "execution_count": 32,
     "metadata": {},
     "output_type": "execute_result"
    }
   ],
   "source": [
    "gc.collect()"
   ]
  },
  {
   "cell_type": "code",
   "execution_count": 33,
   "id": "pharmaceutical-reservation",
   "metadata": {},
   "outputs": [],
   "source": [
    "best_positions[msn_name]['LEAR'] = {\n",
    "            Strategy.SENT: 50,\n",
    "            Strategy.AUX:  50\n",
    "}\n",
    "best_positions[istella_name]['LEAR'] = {\n",
    "            Strategy.SENT: 100,\n",
    "            Strategy.AUX:  50\n",
    "}\n",
    "\n",
    "best_thresholds[msn_name]['LEAR'] = {\n",
    "            Strategy.SENT: [0.82, 0.65],\n",
    "            Strategy.AUX:  [0.86, 0.61]\n",
    "}\n",
    "best_thresholds[istella_name]['LEAR'] = {\n",
    "            Strategy.SENT: [0.44, 0.31],\n",
    "            Strategy.AUX:  [0.77, 0.44]\n",
    "}"
   ]
  },
  {
   "cell_type": "markdown",
   "id": "greatest-musician",
   "metadata": {},
   "source": []
  },
  {
   "cell_type": "code",
   "execution_count": null,
   "id": "amino-relationship",
   "metadata": {},
   "outputs": [],
   "source": []
  },
  {
   "cell_type": "code",
   "execution_count": null,
   "id": "behind-vertex",
   "metadata": {},
   "outputs": [],
   "source": []
  },
  {
   "cell_type": "markdown",
   "id": "interstate-humor",
   "metadata": {},
   "source": [
    "### Compare best choices on the test set"
   ]
  },
  {
   "cell_type": "code",
   "execution_count": 34,
   "id": "liked-personal",
   "metadata": {},
   "outputs": [],
   "source": [
    "dcg_10 = SDCG(cutoff=10, implementation='exp')\n",
    "ndcg_10 = SNDCG(cutoff=10, implementation='exp', no_relevant_results=1.0)"
   ]
  },
  {
   "cell_type": "code",
   "execution_count": 35,
   "id": "athletic-harvard",
   "metadata": {},
   "outputs": [],
   "source": [
    "def compute_sizes(dataset, mask):\n",
    "    sizes = np.zeros((dataset.n_queries,))\n",
    "    for rel_id, (qid, start, end) in enumerate(dataset.query_iterator()):\n",
    "        query_mask = mask[start:end]\n",
    "        sizes[rel_id] = query_mask.sum()\n",
    "    \n",
    "    return np.mean(sizes), np.std(sizes)"
   ]
  },
  {
   "cell_type": "code",
   "execution_count": 36,
   "id": "looking-company",
   "metadata": {},
   "outputs": [],
   "source": [
    "k_s = 10\n",
    "split = 'test'\n",
    "alpha= 0.05"
   ]
  },
  {
   "cell_type": "markdown",
   "id": "authorized-blackjack",
   "metadata": {},
   "source": [
    "EPT"
   ]
  },
  {
   "cell_type": "code",
   "execution_count": 37,
   "id": "elementary-brazilian",
   "metadata": {},
   "outputs": [
    {
     "data": {
      "application/vnd.jupyter.widget-view+json": {
       "model_id": "",
       "version_major": 2,
       "version_minor": 0
      },
      "text/plain": [
       "  0%|          | 0/2 [00:00<?, ?it/s]"
      ]
     },
     "metadata": {},
     "output_type": "display_data"
    },
    {
     "name": "stdout",
     "output_type": "stream",
     "text": [
      "MSN30KF1: 0.5233\n",
      "pvalue = 0.83 | H1? False\n",
      "prefix (s = 200, pt = 0.36) -> ndcg = 0.5224 (-0.17%) 3.15x | mu = 20.39 | std = 8.28\n",
      "              precision    recall  f1-score   support\n",
      "\n",
      "         0.0       1.00      0.88      0.94    710638\n",
      "         1.0       0.33      0.99      0.49     42973\n",
      "\n",
      "    accuracy                           0.88    753611\n",
      "   macro avg       0.66      0.93      0.71    753611\n",
      "weighted avg       0.96      0.88      0.91    753611\n",
      "\n",
      "#########################################\n",
      "pvalue = 0.86 | H1? False\n",
      "prefix (s = 200, pt = 0.42) -> ndcg = 0.5226 (-0.14%) 3.00x | mu = 22.70 | std = 9.94\n",
      "              precision    recall  f1-score   support\n",
      "\n",
      "         0.0       1.00      0.86      0.92    710638\n",
      "         1.0       0.30      0.99      0.46     42973\n",
      "\n",
      "    accuracy                           0.87    753611\n",
      "   macro avg       0.65      0.93      0.69    753611\n",
      "weighted avg       0.96      0.87      0.90    753611\n",
      "\n",
      "#########################################\n",
      "pvalue = 0.84 | H1? False\n",
      "aux(pt = 0.36) -> ndcg = 0.5225 (-0.16%) 4.75x | mu = 19.85, std = 7.69\n",
      "              precision    recall  f1-score   support\n",
      "\n",
      "         0.0       1.00      0.88      0.94    710638\n",
      "         1.0       0.33      0.97      0.50     42973\n",
      "\n",
      "    accuracy                           0.89    753611\n",
      "   macro avg       0.67      0.93      0.72    753611\n",
      "weighted avg       0.96      0.89      0.91    753611\n",
      "\n",
      "pvalue = 0.83 | H1? False\n",
      "aux(pt = 0.42) -> ndcg = 0.5224 (-0.17%) 4.37x | mu = 22.08, std = 9.32\n",
      "              precision    recall  f1-score   support\n",
      "\n",
      "         0.0       1.00      0.86      0.93    710638\n",
      "         1.0       0.30      0.98      0.46     42973\n",
      "\n",
      "    accuracy                           0.87    753611\n",
      "   macro avg       0.65      0.92      0.69    753611\n",
      "weighted avg       0.96      0.87      0.90    753611\n",
      "\n",
      "\n",
      "ISTELLA-FULL: 0.7320\n",
      "pvalue = 0.63 | H1? False\n",
      "prefix (s = 100, pt = 1.37) -> ndcg = 0.7308 (-0.16%) 6.77x | mu = 27.45 | std = 13.89\n",
      "              precision    recall  f1-score   support\n",
      "\n",
      "         0.0       1.00      0.94      0.97   3057451\n",
      "         1.0       0.26      0.99      0.42     71553\n",
      "\n",
      "    accuracy                           0.94   3129004\n",
      "   macro avg       0.63      0.96      0.69   3129004\n",
      "weighted avg       0.98      0.94      0.95   3129004\n",
      "\n",
      "#########################################\n",
      "pvalue = 0.74 | H1? False\n",
      "prefix (s = 100, pt = 1.50) -> ndcg = 0.7311 (-0.12%) 6.47x | mu = 29.80 | std = 15.39\n",
      "              precision    recall  f1-score   support\n",
      "\n",
      "         0.0       1.00      0.93      0.96   3057451\n",
      "         1.0       0.24      1.00      0.39     71553\n",
      "\n",
      "    accuracy                           0.93   3129004\n",
      "   macro avg       0.62      0.96      0.68   3129004\n",
      "weighted avg       0.98      0.93      0.95   3129004\n",
      "\n",
      "#########################################\n",
      "pvalue = 0.54 | H1? False\n",
      "aux(pt = 1.12) -> ndcg = 0.7304 (-0.21%) 10.82x | mu = 18.74, std = 7.39\n",
      "              precision    recall  f1-score   support\n",
      "\n",
      "         0.0       1.00      0.96      0.98   3057451\n",
      "         1.0       0.39      0.99      0.55     71553\n",
      "\n",
      "    accuracy                           0.96   3129004\n",
      "   macro avg       0.69      0.98      0.77   3129004\n",
      "weighted avg       0.99      0.96      0.97   3129004\n",
      "\n",
      "pvalue = 0.65 | H1? False\n",
      "aux(pt = 1.25) -> ndcg = 0.7308 (-0.16%) 10.36x | mu = 20.03, std = 8.26\n",
      "              precision    recall  f1-score   support\n",
      "\n",
      "         0.0       1.00      0.96      0.98   3057451\n",
      "         1.0       0.36      0.99      0.53     71553\n",
      "\n",
      "    accuracy                           0.96   3129004\n",
      "   macro avg       0.68      0.98      0.75   3129004\n",
      "weighted avg       0.99      0.96      0.97   3129004\n",
      "\n",
      "\n"
     ]
    }
   ],
   "source": [
    "for dataset_name in progressbar(datasets_name):\n",
    "    dataset = classification_datasets[dataset_name][split]\n",
    "    end_scores = y_pred_along_training[dataset_name][split][:, -1]\n",
    "    n = dataset.n_instances\n",
    "    m = y_pred_along_training[dataset_name][split].shape[1]\n",
    "    base_ndcg = ndcg_10.eval(dataset, end_scores) \n",
    "    full_cost = n * m\n",
    "    aux_t = y_pred_along_training_aux_10[dataset_name][split].shape[1]\n",
    "    y_true = get_oracle(dataset, end_scores, k=k_s)\n",
    "    \n",
    "    \n",
    "    ### prefix\n",
    "    print(f'{dataset_name}: {base_ndcg[0]:.4f}')\n",
    "    s = best_positions[dataset_name]['EPT'][Strategy.SENT]\n",
    "    sentinel_scores = y_pred_along_training[dataset_name][split][:, s -1]\n",
    "    for pt in best_thresholds[dataset_name]['EPT'][Strategy.SENT]:\n",
    "        mask = EPT_mask(dataset, sentinel_scores, k=10, pt=pt)\n",
    "        np.savetxt(fname=f'./data/bin_labels/{dataset_name}_EPT_prefix_{pt:.2f}.txt', X=mask, fmt='%1d')\n",
    "        n_passed = mask.sum()\n",
    "        scores = mask_scores(mask, sentinel_scores, end_scores)\n",
    "        metric = ndcg_10.eval(dataset, scores)\n",
    "        pvalue = ptest(base_ndcg[1], metric[1])[1]\n",
    "        stat_diff = pvalue < alpha\n",
    "        delta = -100*(base_ndcg[0]-metric[0])/base_ndcg[0]\n",
    "        cost = n * s + n_passed * (m - s)\n",
    "        speedup = full_cost / cost\n",
    "        sizes = compute_sizes(dataset, mask)\n",
    "        df = pandas.DataFrame(np.hstack((np.reshape(base_ndcg[1], (base_ndcg[1].size,1)), np.reshape(metric[1], (metric[1].size,1)))), columns=['base', 'masked'])\n",
    "        print(f'pvalue = {pvalue:.2f} | H1? {stat_diff}')\n",
    "        print(f'prefix (s = {s}, pt = {pt:.2f}) -> ndcg = {metric[0]:.4f} ({delta:.2f}%) {speedup:.2f}x | mu = {sizes[0]:.2f} | std = {sizes[1]:.2f}')\n",
    "        print(classification_report(y_pred=mask, y_true=y_true))\n",
    "        print('#########################################')\n",
    "    \n",
    "    ### aux\n",
    "    sentinel_scores = y_pred_along_training_aux_10[dataset_name][split][:, -1]\n",
    "    for pt in best_thresholds[dataset_name]['EPT'][Strategy.AUX]:\n",
    "        mask = EPT_mask(dataset, sentinel_scores, k=10, pt=pt)\n",
    "        np.savetxt(fname=f'./data/bin_labels/{dataset_name}_EPT_aux_{pt:.2f}.txt', X=mask, fmt='%1d')\n",
    "        n_passed = mask.sum()\n",
    "        scores = mask_scores(mask, sentinel_scores, end_scores)\n",
    "        metric = ndcg_10.eval(dataset, scores)\n",
    "        delta = -100*(base_ndcg[0]-metric[0])/base_ndcg[0]\n",
    "        cost = n * aux_t + n_passed * m\n",
    "        speedup = full_cost / cost\n",
    "        sizes = compute_sizes(dataset, mask)\n",
    "        pvalue = ptest(base_ndcg[1], metric[1])[1]\n",
    "        stat_diff = pvalue < alpha\n",
    "        print(f'pvalue = {pvalue:.2f} | H1? {stat_diff}')\n",
    "        print(f'aux(pt = {pt:.2f}) -> ndcg = {metric[0]:.4f} ({delta:.2f}%) {speedup:.2f}x | mu = {sizes[0]:.2f}, std = {sizes[1]:.2f}')\n",
    "        print(classification_report(y_pred=mask, y_true=y_true))\n",
    "    \n",
    "    print()"
   ]
  },
  {
   "cell_type": "markdown",
   "id": "behind-dress",
   "metadata": {},
   "source": [
    "LEAR"
   ]
  },
  {
   "cell_type": "code",
   "execution_count": 38,
   "id": "prospective-reconstruction",
   "metadata": {},
   "outputs": [],
   "source": [
    "dcg_10 = SDCG(cutoff=10, implementation='exp')\n",
    "ndcg_10 = SNDCG(cutoff=10, implementation='exp', no_relevant_results=1.0)"
   ]
  },
  {
   "cell_type": "code",
   "execution_count": 39,
   "id": "bearing-george",
   "metadata": {},
   "outputs": [
    {
     "data": {
      "application/vnd.jupyter.widget-view+json": {
       "model_id": "",
       "version_major": 2,
       "version_minor": 0
      },
      "text/plain": [
       "  0%|          | 0/2 [00:00<?, ?it/s]"
      ]
     },
     "metadata": {},
     "output_type": "display_data"
    },
    {
     "name": "stdout",
     "output_type": "stream",
     "text": [
      "MSN30KF1: 0.5233 | mu = 119.51, std = 71.83\n",
      "pvalue = 0.57 | H1? False\n",
      "prefix(s = 50, ct = 0.82) -> ndcg = 0.5210 (-0.44%) 5.47x | mu = 16.23, std = 6.47\n",
      "              precision    recall  f1-score   support\n",
      "\n",
      "         0.0       0.99      0.91      0.95    710638\n",
      "         1.0       0.38      0.91      0.54     42973\n",
      "\n",
      "    accuracy                           0.91    753611\n",
      "   macro avg       0.69      0.91      0.74    753611\n",
      "weighted avg       0.96      0.91      0.93    753611\n",
      "\n",
      "pvalue = 0.87 | H1? False\n",
      "prefix(s = 50, ct = 0.65) -> ndcg = 0.5226 (-0.13%) 4.50x | mu = 21.17, std = 8.41\n",
      "              precision    recall  f1-score   support\n",
      "\n",
      "         0.0       1.00      0.87      0.93    710638\n",
      "         1.0       0.31      0.95      0.46     42973\n",
      "\n",
      "    accuracy                           0.87    753611\n",
      "   macro avg       0.65      0.91      0.70    753611\n",
      "weighted avg       0.96      0.87      0.90    753611\n",
      "\n",
      "##########################\n",
      "pvalue = 0.67 | H1? False\n",
      "aux(ct = 0.86) -> ndcg = 0.5216 (-0.33%) 6.08x | mu = 14.38, std = 4.77\n",
      "              precision    recall  f1-score   support\n",
      "\n",
      "         0.0       0.99      0.93      0.96    710638\n",
      "         1.0       0.43      0.92      0.59     42973\n",
      "\n",
      "    accuracy                           0.93    753611\n",
      "   macro avg       0.71      0.92      0.77    753611\n",
      "weighted avg       0.96      0.93      0.94    753611\n",
      "\n",
      "pvalue = 0.96 | H1? False\n",
      "aux(ct = 0.61) -> ndcg = 0.5231 (-0.03%) 4.71x | mu = 20.07, std = 6.88\n",
      "              precision    recall  f1-score   support\n",
      "\n",
      "         0.0       1.00      0.88      0.94    710638\n",
      "         1.0       0.33      0.97      0.49     42973\n",
      "\n",
      "    accuracy                           0.89    753611\n",
      "   macro avg       0.66      0.92      0.71    753611\n",
      "weighted avg       0.96      0.89      0.91    753611\n",
      "\n",
      "ISTELLA-FULL: 0.7320 | mu = 319.32, std = 126.44\n",
      "pvalue = 0.61 | H1? False\n",
      "prefix(s = 100, ct = 0.44) -> ndcg = 0.7307 (-0.17%) 6.50x | mu = 27.26, std = 6.76\n",
      "              precision    recall  f1-score   support\n",
      "\n",
      "         0.0       1.00      0.94      0.97   3057451\n",
      "         1.0       0.27      0.99      0.42     71553\n",
      "\n",
      "    accuracy                           0.94   3129004\n",
      "   macro avg       0.63      0.97      0.69   3129004\n",
      "weighted avg       0.98      0.94      0.95   3129004\n",
      "\n",
      "pvalue = 0.72 | H1? False\n",
      "prefix(s = 100, ct = 0.31) -> ndcg = 0.7311 (-0.12%) 6.18x | mu = 30.00, std = 7.81\n",
      "              precision    recall  f1-score   support\n",
      "\n",
      "         0.0       1.00      0.93      0.96   3057451\n",
      "         1.0       0.24      1.00      0.39     71553\n",
      "\n",
      "    accuracy                           0.93   3129004\n",
      "   macro avg       0.62      0.96      0.68   3129004\n",
      "weighted avg       0.98      0.93      0.95   3129004\n",
      "\n",
      "##########################\n",
      "pvalue = 0.53 | H1? False\n",
      "aux(ct = 0.77) -> ndcg = 0.7304 (-0.22%) 10.59x | mu = 19.38, std = 3.58\n",
      "              precision    recall  f1-score   support\n",
      "\n",
      "         0.0       1.00      0.96      0.98   3057451\n",
      "         1.0       0.37      0.99      0.54     71553\n",
      "\n",
      "    accuracy                           0.96   3129004\n",
      "   macro avg       0.69      0.98      0.76   3129004\n",
      "weighted avg       0.99      0.96      0.97   3129004\n",
      "\n",
      "pvalue = 0.72 | H1? False\n",
      "aux(ct = 0.44) -> ndcg = 0.7311 (-0.12%) 9.05x | mu = 24.49, std = 6.00\n",
      "              precision    recall  f1-score   support\n",
      "\n",
      "         0.0       1.00      0.94      0.97   3057451\n",
      "         1.0       0.30      1.00      0.46     71553\n",
      "\n",
      "    accuracy                           0.95   3129004\n",
      "   macro avg       0.65      0.97      0.71   3129004\n",
      "weighted avg       0.98      0.95      0.96   3129004\n",
      "\n"
     ]
    }
   ],
   "source": [
    "for dataset_name in progressbar(datasets_name):\n",
    "    dataset = classification_datasets[dataset_name][split]\n",
    "    end_scores = y_pred_along_training[dataset_name][split][:, -1]\n",
    "    n = dataset.n_instances\n",
    "    m = y_pred_along_training[dataset_name][split].shape[1]\n",
    "    base_ndcg = ndcg_10.eval(dataset, end_scores)\n",
    "    full_cost = n * m\n",
    "    aux_t = y_pred_along_training_aux_10[dataset_name][split].shape[1]\n",
    "    fsizes = compute_sizes(dataset, np.ones((dataset.n_instances,)))\n",
    "    y_true = get_oracle(dataset, end_scores, k=k_s)\n",
    "    \n",
    "    ### prefix\n",
    "    print(f'{dataset_name}: {base_ndcg[0]:.4f} | mu = {fsizes[0]:.2f}, std = {fsizes[1]:.2f}' )\n",
    "    s = best_positions[dataset_name]['LEAR'][Strategy.SENT]\n",
    "    sentinel_scores = y_pred_along_training[dataset_name][split][:, s -1]\n",
    "    X = get_features(dataset, sentinel_scores)\n",
    "    clf = lgb_classifiers[dataset_name][Strategy.SENT][s][k_s]\n",
    "    clf_t = clf.num_trees()\n",
    "    y_pred = clf.predict(X)\n",
    "    for ct in best_thresholds[dataset_name]['LEAR'][Strategy.SENT]:\n",
    "        mask = y_pred > ct\n",
    "        np.savetxt(fname=f'./data/bin_labels/{dataset_name}_LEAR_prefix_{ct:.2f}.txt', X=mask, fmt='%1d')\n",
    "        n_passed = mask.sum()\n",
    "        scores = mask_scores(mask, sentinel_scores, end_scores)\n",
    "        metric = ndcg_10.eval(dataset, scores)\n",
    "        delta = -100*(base_ndcg[0]-metric[0])/base_ndcg[0]\n",
    "        cost = n * s + n*clf_t + n_passed * (m - s)\n",
    "        speedup = full_cost / cost\n",
    "        pvalue = ptest(base_ndcg[1], metric[1])[1]\n",
    "        stat_diff = pvalue < alpha\n",
    "        sizes = compute_sizes(dataset, mask)\n",
    "        print(f'pvalue = {pvalue:.2f} | H1? {stat_diff}')\n",
    "        print(f'prefix(s = {s}, ct = {ct:.2f}) -> ndcg = {metric[0]:.4f} ({delta:.2f}%) {speedup:.2f}x | mu = {sizes[0]:.2f}, std = {sizes[1]:.2f}')\n",
    "        print(classification_report(y_pred=mask, y_true=y_true))\n",
    "    \n",
    "    print('##########################')\n",
    "    ### aux\n",
    "    sentinel_scores = y_pred_along_training_aux_10[dataset_name][split][:, -1]\n",
    "    X = get_features(dataset, sentinel_scores)\n",
    "    s = best_positions[dataset_name]['LEAR'][Strategy.AUX]\n",
    "    clf = lgb_classifiers[dataset_name][Strategy.AUX][50][k_s]\n",
    "    clf_t = clf.num_trees()\n",
    "    y_pred = clf.predict(X)\n",
    "    for ct in best_thresholds[dataset_name]['LEAR'][Strategy.AUX]:\n",
    "        mask = y_pred > ct\n",
    "        np.savetxt(fname=f'./data/bin_labels/{dataset_name}_LEAR_aux_{ct:.2f}.txt', X=mask, fmt='%1d')\n",
    "        n_passed = mask.sum()\n",
    "        scores = mask_scores(mask, sentinel_scores, end_scores)\n",
    "        metric = ndcg_10.eval(dataset, scores)\n",
    "        delta = -100*(base_ndcg[0]-metric[0])/base_ndcg[0]\n",
    "        cost = n * aux_t + n_passed * m\n",
    "        speedup = full_cost / cost\n",
    "        sizes = compute_sizes(dataset, mask)\n",
    "        pvalue = ptest(base_ndcg[1], metric[1])[1]\n",
    "        stat_diff = pvalue < alpha\n",
    "        print(f'pvalue = {pvalue:.2f} | H1? {stat_diff}')\n",
    "        print(f'aux(ct = {ct:.2f}) -> ndcg = {metric[0]:.4f} ({delta:.2f}%) {speedup:.2f}x | mu = {sizes[0]:.2f}, std = {sizes[1]:.2f}')\n",
    "        print(classification_report(y_pred=mask, y_true=y_true))"
   ]
  },
  {
   "cell_type": "code",
   "execution_count": 40,
   "id": "incorporated-teddy",
   "metadata": {},
   "outputs": [
    {
     "data": {
      "text/plain": [
       "0.05"
      ]
     },
     "execution_count": 40,
     "metadata": {},
     "output_type": "execute_result"
    }
   ],
   "source": [
    "alpha"
   ]
  },
  {
   "cell_type": "markdown",
   "id": "unlimited-vatican",
   "metadata": {},
   "source": [
    "### QuickScorer"
   ]
  },
  {
   "cell_type": "code",
   "execution_count": 41,
   "id": "strategic-ceramic",
   "metadata": {},
   "outputs": [],
   "source": [
    "dcg_10 = SDCG(cutoff=10, implementation='exp')\n",
    "ndcg_10 = SNDCG(cutoff=10, implementation='exp', no_relevant_results=1.0)"
   ]
  },
  {
   "cell_type": "code",
   "execution_count": null,
   "id": "first-import",
   "metadata": {},
   "outputs": [],
   "source": []
  },
  {
   "cell_type": "code",
   "execution_count": 42,
   "id": "devoted-western",
   "metadata": {},
   "outputs": [
    {
     "data": {
      "text/html": [
       "<div>\n",
       "<style scoped>\n",
       "    .dataframe tbody tr th:only-of-type {\n",
       "        vertical-align: middle;\n",
       "    }\n",
       "\n",
       "    .dataframe tbody tr th {\n",
       "        vertical-align: top;\n",
       "    }\n",
       "\n",
       "    .dataframe thead th {\n",
       "        text-align: right;\n",
       "    }\n",
       "</style>\n",
       "<table border=\"1\" class=\"dataframe\">\n",
       "  <thead>\n",
       "    <tr style=\"text-align: right;\">\n",
       "      <th></th>\n",
       "      <th>dataset</th>\n",
       "      <th>strategy</th>\n",
       "      <th>model_type</th>\n",
       "      <th>parameter</th>\n",
       "      <th>dataset_time</th>\n",
       "      <th>doc_time</th>\n",
       "    </tr>\n",
       "  </thead>\n",
       "  <tbody>\n",
       "    <tr>\n",
       "      <th>0</th>\n",
       "      <td>MSN30KF1</td>\n",
       "      <td>aux</td>\n",
       "      <td>ranker</td>\n",
       "      <td>0.0</td>\n",
       "      <td>1.526410</td>\n",
       "      <td>2.025400e-06</td>\n",
       "    </tr>\n",
       "    <tr>\n",
       "      <th>1</th>\n",
       "      <td>MSN30KF1</td>\n",
       "      <td>aux</td>\n",
       "      <td>clf</td>\n",
       "      <td>0.0</td>\n",
       "      <td>0.404605</td>\n",
       "      <td>5.368880e-07</td>\n",
       "    </tr>\n",
       "    <tr>\n",
       "      <th>2</th>\n",
       "      <td>MSN30KF1</td>\n",
       "      <td>prefix</td>\n",
       "      <td>clf</td>\n",
       "      <td>0.0</td>\n",
       "      <td>0.498687</td>\n",
       "      <td>6.617299e-07</td>\n",
       "    </tr>\n",
       "    <tr>\n",
       "      <th>3</th>\n",
       "      <td>ISTELLA-FULL</td>\n",
       "      <td>aux</td>\n",
       "      <td>ranker</td>\n",
       "      <td>0.0</td>\n",
       "      <td>5.790620</td>\n",
       "      <td>1.850630e-06</td>\n",
       "    </tr>\n",
       "    <tr>\n",
       "      <th>4</th>\n",
       "      <td>ISTELLA-FULL</td>\n",
       "      <td>aux</td>\n",
       "      <td>clf</td>\n",
       "      <td>0.0</td>\n",
       "      <td>1.004650</td>\n",
       "      <td>3.210766e-07</td>\n",
       "    </tr>\n",
       "  </tbody>\n",
       "</table>\n",
       "</div>"
      ],
      "text/plain": [
       "        dataset strategy model_type  parameter  dataset_time      doc_time\n",
       "0      MSN30KF1      aux     ranker        0.0      1.526410  2.025400e-06\n",
       "1      MSN30KF1      aux        clf        0.0      0.404605  5.368880e-07\n",
       "2      MSN30KF1   prefix        clf        0.0      0.498687  6.617299e-07\n",
       "3  ISTELLA-FULL      aux     ranker        0.0      5.790620  1.850630e-06\n",
       "4  ISTELLA-FULL      aux        clf        0.0      1.004650  3.210766e-07"
      ]
     },
     "execution_count": 42,
     "metadata": {},
     "output_type": "execute_result"
    }
   ],
   "source": [
    "execution_times = pd.read_csv('./data/runtimes.csv', decimal='.')\n",
    "execution_times.head()"
   ]
  },
  {
   "cell_type": "code",
   "execution_count": 43,
   "id": "warming-devon",
   "metadata": {},
   "outputs": [],
   "source": [
    "proximity_thresholds = np.array(sorted(list(set(execution_times.query('model_type == \\'ept\\'')['parameter'].values))))\n",
    "confidence_thresholds = np.array(sorted(list(set(execution_times.query('model_type == \\'lear\\'')['parameter'].values))))"
   ]
  },
  {
   "cell_type": "code",
   "execution_count": 44,
   "id": "searching-lafayette",
   "metadata": {},
   "outputs": [],
   "source": [
    "split = 'test'"
   ]
  },
  {
   "cell_type": "code",
   "execution_count": 45,
   "id": "unauthorized-zambia",
   "metadata": {},
   "outputs": [],
   "source": [
    "true_performances = {}\n",
    "for dataset_name in datasets_name:\n",
    "    true_performances[dataset_name] = {\n",
    "        'prefix' : {'ept' : { pt: {} for pt in proximity_thresholds},\n",
    "                    'clf' : { ct: {} for ct in confidence_thresholds},\n",
    "                   },\n",
    "        'aux' : {'ept' : { pt: {} for pt in proximity_thresholds},\n",
    "                 'clf' : { ct: {} for ct in confidence_thresholds},\n",
    "                },\n",
    "    }"
   ]
  },
  {
   "cell_type": "code",
   "execution_count": 46,
   "id": "revolutionary-juvenile",
   "metadata": {},
   "outputs": [
    {
     "data": {
      "text/html": [
       "<div>\n",
       "<style scoped>\n",
       "    .dataframe tbody tr th:only-of-type {\n",
       "        vertical-align: middle;\n",
       "    }\n",
       "\n",
       "    .dataframe tbody tr th {\n",
       "        vertical-align: top;\n",
       "    }\n",
       "\n",
       "    .dataframe thead th {\n",
       "        text-align: right;\n",
       "    }\n",
       "</style>\n",
       "<table border=\"1\" class=\"dataframe\">\n",
       "  <thead>\n",
       "    <tr style=\"text-align: right;\">\n",
       "      <th></th>\n",
       "      <th>dataset</th>\n",
       "      <th>strategy</th>\n",
       "      <th>model_type</th>\n",
       "      <th>parameter</th>\n",
       "      <th>dataset_time</th>\n",
       "      <th>doc_time</th>\n",
       "    </tr>\n",
       "  </thead>\n",
       "  <tbody>\n",
       "    <tr>\n",
       "      <th>0</th>\n",
       "      <td>MSN30KF1</td>\n",
       "      <td>aux</td>\n",
       "      <td>ranker</td>\n",
       "      <td>0.00</td>\n",
       "      <td>1.526410</td>\n",
       "      <td>2.025400e-06</td>\n",
       "    </tr>\n",
       "    <tr>\n",
       "      <th>1</th>\n",
       "      <td>MSN30KF1</td>\n",
       "      <td>aux</td>\n",
       "      <td>clf</td>\n",
       "      <td>0.00</td>\n",
       "      <td>0.404605</td>\n",
       "      <td>5.368880e-07</td>\n",
       "    </tr>\n",
       "    <tr>\n",
       "      <th>2</th>\n",
       "      <td>MSN30KF1</td>\n",
       "      <td>prefix</td>\n",
       "      <td>clf</td>\n",
       "      <td>0.00</td>\n",
       "      <td>0.498687</td>\n",
       "      <td>6.617299e-07</td>\n",
       "    </tr>\n",
       "    <tr>\n",
       "      <th>3</th>\n",
       "      <td>ISTELLA-FULL</td>\n",
       "      <td>aux</td>\n",
       "      <td>ranker</td>\n",
       "      <td>0.00</td>\n",
       "      <td>5.790620</td>\n",
       "      <td>1.850630e-06</td>\n",
       "    </tr>\n",
       "    <tr>\n",
       "      <th>4</th>\n",
       "      <td>ISTELLA-FULL</td>\n",
       "      <td>aux</td>\n",
       "      <td>clf</td>\n",
       "      <td>0.00</td>\n",
       "      <td>1.004650</td>\n",
       "      <td>3.210766e-07</td>\n",
       "    </tr>\n",
       "    <tr>\n",
       "      <th>5</th>\n",
       "      <td>ISTELLA-FULL</td>\n",
       "      <td>prefix</td>\n",
       "      <td>clf</td>\n",
       "      <td>0.00</td>\n",
       "      <td>1.322310</td>\n",
       "      <td>4.225977e-07</td>\n",
       "    </tr>\n",
       "    <tr>\n",
       "      <th>6</th>\n",
       "      <td>MSN30KF1</td>\n",
       "      <td>baseline</td>\n",
       "      <td>baseline</td>\n",
       "      <td>0.00</td>\n",
       "      <td>21.209100</td>\n",
       "      <td>2.814300e-05</td>\n",
       "    </tr>\n",
       "    <tr>\n",
       "      <th>7</th>\n",
       "      <td>ISTELLA-FULL</td>\n",
       "      <td>baseline</td>\n",
       "      <td>baseline</td>\n",
       "      <td>0.00</td>\n",
       "      <td>143.045000</td>\n",
       "      <td>4.571600e-05</td>\n",
       "    </tr>\n",
       "    <tr>\n",
       "      <th>8</th>\n",
       "      <td>MSN30KF1</td>\n",
       "      <td>prefix</td>\n",
       "      <td>ept</td>\n",
       "      <td>0.36</td>\n",
       "      <td>11.585840</td>\n",
       "      <td>1.537370e-05</td>\n",
       "    </tr>\n",
       "    <tr>\n",
       "      <th>9</th>\n",
       "      <td>MSN30KF1</td>\n",
       "      <td>prefix</td>\n",
       "      <td>ept</td>\n",
       "      <td>0.42</td>\n",
       "      <td>12.174150</td>\n",
       "      <td>1.615440e-05</td>\n",
       "    </tr>\n",
       "    <tr>\n",
       "      <th>10</th>\n",
       "      <td>MSN30KF1</td>\n",
       "      <td>prefix</td>\n",
       "      <td>lear</td>\n",
       "      <td>0.65</td>\n",
       "      <td>6.254910</td>\n",
       "      <td>8.305880e-06</td>\n",
       "    </tr>\n",
       "    <tr>\n",
       "      <th>11</th>\n",
       "      <td>MSN30KF1</td>\n",
       "      <td>prefix</td>\n",
       "      <td>lear</td>\n",
       "      <td>0.82</td>\n",
       "      <td>5.262780</td>\n",
       "      <td>6.983420e-06</td>\n",
       "    </tr>\n",
       "    <tr>\n",
       "      <th>12</th>\n",
       "      <td>MSN30KF1</td>\n",
       "      <td>aux</td>\n",
       "      <td>ept</td>\n",
       "      <td>0.42</td>\n",
       "      <td>4.468090</td>\n",
       "      <td>5.928900e-06</td>\n",
       "    </tr>\n",
       "    <tr>\n",
       "      <th>13</th>\n",
       "      <td>MSN30KF1</td>\n",
       "      <td>aux</td>\n",
       "      <td>ept</td>\n",
       "      <td>0.36</td>\n",
       "      <td>4.086150</td>\n",
       "      <td>5.422100e-06</td>\n",
       "    </tr>\n",
       "    <tr>\n",
       "      <th>14</th>\n",
       "      <td>MSN30KF1</td>\n",
       "      <td>aux</td>\n",
       "      <td>lear</td>\n",
       "      <td>0.61</td>\n",
       "      <td>4.136110</td>\n",
       "      <td>5.488380e-06</td>\n",
       "    </tr>\n",
       "    <tr>\n",
       "      <th>15</th>\n",
       "      <td>MSN30KF1</td>\n",
       "      <td>aux</td>\n",
       "      <td>lear</td>\n",
       "      <td>0.86</td>\n",
       "      <td>3.137380</td>\n",
       "      <td>4.137380e-06</td>\n",
       "    </tr>\n",
       "    <tr>\n",
       "      <th>16</th>\n",
       "      <td>ISTELLA-FULL</td>\n",
       "      <td>prefix</td>\n",
       "      <td>ept</td>\n",
       "      <td>1.37</td>\n",
       "      <td>24.939400</td>\n",
       "      <td>7.971220e-06</td>\n",
       "    </tr>\n",
       "    <tr>\n",
       "      <th>17</th>\n",
       "      <td>ISTELLA-FULL</td>\n",
       "      <td>prefix</td>\n",
       "      <td>ept</td>\n",
       "      <td>1.50</td>\n",
       "      <td>25.934300</td>\n",
       "      <td>8.288370e-06</td>\n",
       "    </tr>\n",
       "    <tr>\n",
       "      <th>18</th>\n",
       "      <td>ISTELLA-FULL</td>\n",
       "      <td>prefix</td>\n",
       "      <td>lear</td>\n",
       "      <td>0.44</td>\n",
       "      <td>24.774700</td>\n",
       "      <td>7.917770e-06</td>\n",
       "    </tr>\n",
       "    <tr>\n",
       "      <th>19</th>\n",
       "      <td>ISTELLA-FULL</td>\n",
       "      <td>prefix</td>\n",
       "      <td>lear</td>\n",
       "      <td>0.31</td>\n",
       "      <td>26.498000</td>\n",
       "      <td>8.468520e-06</td>\n",
       "    </tr>\n",
       "    <tr>\n",
       "      <th>20</th>\n",
       "      <td>ISTELLA-FULL</td>\n",
       "      <td>aux</td>\n",
       "      <td>ept</td>\n",
       "      <td>1.12</td>\n",
       "      <td>8.985120</td>\n",
       "      <td>2.871560e-06</td>\n",
       "    </tr>\n",
       "    <tr>\n",
       "      <th>21</th>\n",
       "      <td>ISTELLA-FULL</td>\n",
       "      <td>aux</td>\n",
       "      <td>ept</td>\n",
       "      <td>1.25</td>\n",
       "      <td>9.469170</td>\n",
       "      <td>3.026260e-06</td>\n",
       "    </tr>\n",
       "    <tr>\n",
       "      <th>22</th>\n",
       "      <td>ISTELLA-FULL</td>\n",
       "      <td>aux</td>\n",
       "      <td>lear</td>\n",
       "      <td>0.44</td>\n",
       "      <td>11.776800</td>\n",
       "      <td>3.763750e-06</td>\n",
       "    </tr>\n",
       "    <tr>\n",
       "      <th>23</th>\n",
       "      <td>ISTELLA-FULL</td>\n",
       "      <td>aux</td>\n",
       "      <td>lear</td>\n",
       "      <td>0.77</td>\n",
       "      <td>9.110110</td>\n",
       "      <td>2.911510e-06</td>\n",
       "    </tr>\n",
       "  </tbody>\n",
       "</table>\n",
       "</div>"
      ],
      "text/plain": [
       "         dataset  strategy model_type  parameter  dataset_time      doc_time\n",
       "0       MSN30KF1       aux     ranker       0.00      1.526410  2.025400e-06\n",
       "1       MSN30KF1       aux        clf       0.00      0.404605  5.368880e-07\n",
       "2       MSN30KF1    prefix        clf       0.00      0.498687  6.617299e-07\n",
       "3   ISTELLA-FULL       aux     ranker       0.00      5.790620  1.850630e-06\n",
       "4   ISTELLA-FULL       aux        clf       0.00      1.004650  3.210766e-07\n",
       "5   ISTELLA-FULL    prefix        clf       0.00      1.322310  4.225977e-07\n",
       "6       MSN30KF1  baseline   baseline       0.00     21.209100  2.814300e-05\n",
       "7   ISTELLA-FULL  baseline   baseline       0.00    143.045000  4.571600e-05\n",
       "8       MSN30KF1    prefix        ept       0.36     11.585840  1.537370e-05\n",
       "9       MSN30KF1    prefix        ept       0.42     12.174150  1.615440e-05\n",
       "10      MSN30KF1    prefix       lear       0.65      6.254910  8.305880e-06\n",
       "11      MSN30KF1    prefix       lear       0.82      5.262780  6.983420e-06\n",
       "12      MSN30KF1       aux        ept       0.42      4.468090  5.928900e-06\n",
       "13      MSN30KF1       aux        ept       0.36      4.086150  5.422100e-06\n",
       "14      MSN30KF1       aux       lear       0.61      4.136110  5.488380e-06\n",
       "15      MSN30KF1       aux       lear       0.86      3.137380  4.137380e-06\n",
       "16  ISTELLA-FULL    prefix        ept       1.37     24.939400  7.971220e-06\n",
       "17  ISTELLA-FULL    prefix        ept       1.50     25.934300  8.288370e-06\n",
       "18  ISTELLA-FULL    prefix       lear       0.44     24.774700  7.917770e-06\n",
       "19  ISTELLA-FULL    prefix       lear       0.31     26.498000  8.468520e-06\n",
       "20  ISTELLA-FULL       aux        ept       1.12      8.985120  2.871560e-06\n",
       "21  ISTELLA-FULL       aux        ept       1.25      9.469170  3.026260e-06\n",
       "22  ISTELLA-FULL       aux       lear       0.44     11.776800  3.763750e-06\n",
       "23  ISTELLA-FULL       aux       lear       0.77      9.110110  2.911510e-06"
      ]
     },
     "execution_count": 46,
     "metadata": {},
     "output_type": "execute_result"
    }
   ],
   "source": [
    "execution_times"
   ]
  },
  {
   "cell_type": "code",
   "execution_count": 47,
   "id": "minus-cholesterol",
   "metadata": {},
   "outputs": [
    {
     "data": {
      "application/vnd.jupyter.widget-view+json": {
       "model_id": "",
       "version_major": 2,
       "version_minor": 0
      },
      "text/plain": [
       "  0%|          | 0/2 [00:00<?, ?it/s]"
      ]
     },
     "metadata": {},
     "output_type": "display_data"
    },
    {
     "data": {
      "application/vnd.jupyter.widget-view+json": {
       "model_id": "",
       "version_major": 2,
       "version_minor": 0
      },
      "text/plain": [
       "  0%|          | 0/6 [00:00<?, ?it/s]"
      ]
     },
     "metadata": {},
     "output_type": "display_data"
    },
    {
     "data": {
      "application/vnd.jupyter.widget-view+json": {
       "model_id": "",
       "version_major": 2,
       "version_minor": 0
      },
      "text/plain": [
       "IntProgress(value=0, description='Randomization Test', max=10)"
      ]
     },
     "metadata": {},
     "output_type": "display_data"
    },
    {
     "data": {
      "application/vnd.jupyter.widget-view+json": {
       "model_id": "",
       "version_major": 2,
       "version_minor": 0
      },
      "text/plain": [
       "IntProgress(value=0, description='Randomization Test', max=10)"
      ]
     },
     "metadata": {},
     "output_type": "display_data"
    },
    {
     "data": {
      "application/vnd.jupyter.widget-view+json": {
       "model_id": "",
       "version_major": 2,
       "version_minor": 0
      },
      "text/plain": [
       "IntProgress(value=0, description='Randomization Test', max=10)"
      ]
     },
     "metadata": {},
     "output_type": "display_data"
    },
    {
     "data": {
      "application/vnd.jupyter.widget-view+json": {
       "model_id": "",
       "version_major": 2,
       "version_minor": 0
      },
      "text/plain": [
       "IntProgress(value=0, description='Randomization Test', max=10)"
      ]
     },
     "metadata": {},
     "output_type": "display_data"
    },
    {
     "data": {
      "application/vnd.jupyter.widget-view+json": {
       "model_id": "",
       "version_major": 2,
       "version_minor": 0
      },
      "text/plain": [
       "IntProgress(value=0, description='Randomization Test', max=10)"
      ]
     },
     "metadata": {},
     "output_type": "display_data"
    },
    {
     "data": {
      "application/vnd.jupyter.widget-view+json": {
       "model_id": "",
       "version_major": 2,
       "version_minor": 0
      },
      "text/plain": [
       "IntProgress(value=0, description='Randomization Test', max=10)"
      ]
     },
     "metadata": {},
     "output_type": "display_data"
    },
    {
     "name": "stdout",
     "output_type": "stream",
     "text": [
      "parameter not found 1.12\n",
      "parameter not found 1.12\n"
     ]
    },
    {
     "data": {
      "application/vnd.jupyter.widget-view+json": {
       "model_id": "",
       "version_major": 2,
       "version_minor": 0
      },
      "text/plain": [
       "IntProgress(value=0, description='Randomization Test', max=10)"
      ]
     },
     "metadata": {},
     "output_type": "display_data"
    },
    {
     "data": {
      "application/vnd.jupyter.widget-view+json": {
       "model_id": "",
       "version_major": 2,
       "version_minor": 0
      },
      "text/plain": [
       "IntProgress(value=0, description='Randomization Test', max=10)"
      ]
     },
     "metadata": {},
     "output_type": "display_data"
    },
    {
     "name": "stdout",
     "output_type": "stream",
     "text": [
      "parameter not found 1.25\n",
      "parameter not found 1.25\n"
     ]
    },
    {
     "data": {
      "application/vnd.jupyter.widget-view+json": {
       "model_id": "",
       "version_major": 2,
       "version_minor": 0
      },
      "text/plain": [
       "IntProgress(value=0, description='Randomization Test', max=10)"
      ]
     },
     "metadata": {},
     "output_type": "display_data"
    },
    {
     "data": {
      "application/vnd.jupyter.widget-view+json": {
       "model_id": "",
       "version_major": 2,
       "version_minor": 0
      },
      "text/plain": [
       "IntProgress(value=0, description='Randomization Test', max=10)"
      ]
     },
     "metadata": {},
     "output_type": "display_data"
    },
    {
     "name": "stdout",
     "output_type": "stream",
     "text": [
      "parameter not found 1.37\n",
      "parameter not found 1.37\n"
     ]
    },
    {
     "data": {
      "application/vnd.jupyter.widget-view+json": {
       "model_id": "",
       "version_major": 2,
       "version_minor": 0
      },
      "text/plain": [
       "IntProgress(value=0, description='Randomization Test', max=10)"
      ]
     },
     "metadata": {},
     "output_type": "display_data"
    },
    {
     "data": {
      "application/vnd.jupyter.widget-view+json": {
       "model_id": "",
       "version_major": 2,
       "version_minor": 0
      },
      "text/plain": [
       "IntProgress(value=0, description='Randomization Test', max=10)"
      ]
     },
     "metadata": {},
     "output_type": "display_data"
    },
    {
     "name": "stdout",
     "output_type": "stream",
     "text": [
      "parameter not found 1.5\n",
      "parameter not found 1.5\n"
     ]
    },
    {
     "data": {
      "application/vnd.jupyter.widget-view+json": {
       "model_id": "",
       "version_major": 2,
       "version_minor": 0
      },
      "text/plain": [
       "  0%|          | 0/6 [00:00<?, ?it/s]"
      ]
     },
     "metadata": {},
     "output_type": "display_data"
    },
    {
     "data": {
      "application/vnd.jupyter.widget-view+json": {
       "model_id": "",
       "version_major": 2,
       "version_minor": 0
      },
      "text/plain": [
       "IntProgress(value=0, description='Randomization Test', max=10)"
      ]
     },
     "metadata": {},
     "output_type": "display_data"
    },
    {
     "data": {
      "application/vnd.jupyter.widget-view+json": {
       "model_id": "",
       "version_major": 2,
       "version_minor": 0
      },
      "text/plain": [
       "IntProgress(value=0, description='Randomization Test', max=10)"
      ]
     },
     "metadata": {},
     "output_type": "display_data"
    },
    {
     "name": "stdout",
     "output_type": "stream",
     "text": [
      "parameter not found 0.36\n",
      "parameter not found 0.36\n"
     ]
    },
    {
     "data": {
      "application/vnd.jupyter.widget-view+json": {
       "model_id": "",
       "version_major": 2,
       "version_minor": 0
      },
      "text/plain": [
       "IntProgress(value=0, description='Randomization Test', max=10)"
      ]
     },
     "metadata": {},
     "output_type": "display_data"
    },
    {
     "data": {
      "application/vnd.jupyter.widget-view+json": {
       "model_id": "",
       "version_major": 2,
       "version_minor": 0
      },
      "text/plain": [
       "IntProgress(value=0, description='Randomization Test', max=10)"
      ]
     },
     "metadata": {},
     "output_type": "display_data"
    },
    {
     "name": "stdout",
     "output_type": "stream",
     "text": [
      "parameter not found 0.42\n",
      "parameter not found 0.42\n"
     ]
    },
    {
     "data": {
      "application/vnd.jupyter.widget-view+json": {
       "model_id": "",
       "version_major": 2,
       "version_minor": 0
      },
      "text/plain": [
       "IntProgress(value=0, description='Randomization Test', max=10)"
      ]
     },
     "metadata": {},
     "output_type": "display_data"
    },
    {
     "data": {
      "application/vnd.jupyter.widget-view+json": {
       "model_id": "",
       "version_major": 2,
       "version_minor": 0
      },
      "text/plain": [
       "IntProgress(value=0, description='Randomization Test', max=10)"
      ]
     },
     "metadata": {},
     "output_type": "display_data"
    },
    {
     "name": "stdout",
     "output_type": "stream",
     "text": [
      "parameter not found 1.12\n"
     ]
    },
    {
     "data": {
      "application/vnd.jupyter.widget-view+json": {
       "model_id": "",
       "version_major": 2,
       "version_minor": 0
      },
      "text/plain": [
       "IntProgress(value=0, description='Randomization Test', max=10)"
      ]
     },
     "metadata": {},
     "output_type": "display_data"
    },
    {
     "data": {
      "application/vnd.jupyter.widget-view+json": {
       "model_id": "",
       "version_major": 2,
       "version_minor": 0
      },
      "text/plain": [
       "IntProgress(value=0, description='Randomization Test', max=10)"
      ]
     },
     "metadata": {},
     "output_type": "display_data"
    },
    {
     "name": "stdout",
     "output_type": "stream",
     "text": [
      "parameter not found 1.25\n"
     ]
    },
    {
     "data": {
      "application/vnd.jupyter.widget-view+json": {
       "model_id": "",
       "version_major": 2,
       "version_minor": 0
      },
      "text/plain": [
       "IntProgress(value=0, description='Randomization Test', max=10)"
      ]
     },
     "metadata": {},
     "output_type": "display_data"
    },
    {
     "data": {
      "application/vnd.jupyter.widget-view+json": {
       "model_id": "",
       "version_major": 2,
       "version_minor": 0
      },
      "text/plain": [
       "IntProgress(value=0, description='Randomization Test', max=10)"
      ]
     },
     "metadata": {},
     "output_type": "display_data"
    },
    {
     "name": "stdout",
     "output_type": "stream",
     "text": [
      "parameter not found 1.37\n"
     ]
    },
    {
     "data": {
      "application/vnd.jupyter.widget-view+json": {
       "model_id": "",
       "version_major": 2,
       "version_minor": 0
      },
      "text/plain": [
       "IntProgress(value=0, description='Randomization Test', max=10)"
      ]
     },
     "metadata": {},
     "output_type": "display_data"
    },
    {
     "data": {
      "application/vnd.jupyter.widget-view+json": {
       "model_id": "",
       "version_major": 2,
       "version_minor": 0
      },
      "text/plain": [
       "IntProgress(value=0, description='Randomization Test', max=10)"
      ]
     },
     "metadata": {},
     "output_type": "display_data"
    },
    {
     "name": "stdout",
     "output_type": "stream",
     "text": [
      "parameter not found 1.5\n"
     ]
    }
   ],
   "source": [
    "for dataset_name in progressbar(datasets_name):\n",
    "    dataset = classification_datasets[dataset_name][split]\n",
    "    scores = y_pred_along_training[dataset_name][split][:, -1]\n",
    "    sentinel_position = best_positions[dataset_name]['EPT'][Strategy.SENT]\n",
    "    exit_point = sentinel_position - 1\n",
    "    sentinel_scores = y_pred_along_training[dataset_name][split][:, exit_point]\n",
    "    aux_scores = y_pred_along_training_aux_10[dataset_name][split][:, -1]\n",
    "    n_items = dataset.n_instances\n",
    "    n_trees = y_pred_along_training[dataset_name][split].shape[1]\n",
    "    base_t = execution_times.query(f'dataset == \\'{dataset_name}\\' and model_type == \\'baseline\\'')['dataset_time'].values[0]\n",
    "    for pt in progressbar(proximity_thresholds):\n",
    "        prefix_ept_mask = EPT_mask(dataset, sentinel_scores, k=10, pt=pt)\n",
    "        prefix_ept_scores = mask_scores(prefix_ept_mask, sentinel_scores, scores)\n",
    "        prefix_ept_metric = ndcg_10.eval(dataset, prefix_ept_scores)\n",
    "        prefix_ept_cost = execution_times.query(f'dataset == \\'{dataset_name}\\' and strategy == \\'prefix\\' and model_type == \\'ept\\' and parameter == \\'{pt:.2f}\\'')['dataset_time']\n",
    "        pv_prefix = np.array(random_test(ndcg_10.eval(dataset, scores)[1], prefix_ept_metric[1], n_perm=10))\n",
    "        aux_ept_mask = EPT_mask(dataset, aux_scores, k=10, pt=pt)\n",
    "        aux_ept_scores = mask_scores(aux_ept_mask, aux_scores, scores)\n",
    "        aux_ept_metric = ndcg_10.eval(dataset, aux_ept_scores)\n",
    "        pv_aux = np.array(random_test(ndcg_10.eval(dataset, scores)[1], aux_ept_metric[1], n_perm=10))\n",
    "        \n",
    "        aux_ept_cost = execution_times.query(f'dataset == \\'{dataset_name}\\' and strategy == \\'aux\\' and model_type == \\'ept\\' and parameter == \\'{pt:.2f}\\'')['dataset_time']\n",
    "        aux_ept_cost += execution_times.query(f'dataset == \\'{dataset_name}\\' and strategy == \\'aux\\' and model_type == \\'ranker\\'')['dataset_time'].values[0]\n",
    "        try:\n",
    "            true_performances[dataset_name]['prefix']['ept'][pt] = {\n",
    "                'metric': prefix_ept_metric, \n",
    "                'cost' : prefix_ept_cost.values[0] ,\n",
    "                'p_value': pv_prefix\n",
    "            }\n",
    "        except IndexError:\n",
    "            print(f'parameter not found {pt}')\n",
    "        try:\n",
    "            true_performances[dataset_name]['aux']['ept'][pt] = {\n",
    "                'metric': aux_ept_metric, \n",
    "                'cost' : aux_ept_cost.values[0],\n",
    "                'p_value' : pv_aux\n",
    "            }\n",
    "        except IndexError:\n",
    "            print(f'parameter not found {pt}')"
   ]
  },
  {
   "cell_type": "code",
   "execution_count": 48,
   "id": "greenhouse-prompt",
   "metadata": {},
   "outputs": [
    {
     "name": "stdout",
     "output_type": "stream",
     "text": [
      "753611\n",
      "3129004\n"
     ]
    }
   ],
   "source": [
    "print(classification_datasets[msn_name][split].n_instances)\n",
    "print(classification_datasets[istella_name][split].n_instances)"
   ]
  },
  {
   "cell_type": "code",
   "execution_count": 49,
   "id": "provincial-proportion",
   "metadata": {},
   "outputs": [
    {
     "data": {
      "application/vnd.jupyter.widget-view+json": {
       "model_id": "",
       "version_major": 2,
       "version_minor": 0
      },
      "text/plain": [
       "  0%|          | 0/2 [00:00<?, ?it/s]"
      ]
     },
     "metadata": {},
     "output_type": "display_data"
    },
    {
     "data": {
      "application/vnd.jupyter.widget-view+json": {
       "model_id": "",
       "version_major": 2,
       "version_minor": 0
      },
      "text/plain": [
       "  0%|          | 0/7 [00:00<?, ?it/s]"
      ]
     },
     "metadata": {},
     "output_type": "display_data"
    },
    {
     "data": {
      "application/vnd.jupyter.widget-view+json": {
       "model_id": "",
       "version_major": 2,
       "version_minor": 0
      },
      "text/plain": [
       "IntProgress(value=0, description='Randomization Test', max=10)"
      ]
     },
     "metadata": {},
     "output_type": "display_data"
    },
    {
     "data": {
      "application/vnd.jupyter.widget-view+json": {
       "model_id": "",
       "version_major": 2,
       "version_minor": 0
      },
      "text/plain": [
       "IntProgress(value=0, description='Randomization Test', max=10)"
      ]
     },
     "metadata": {},
     "output_type": "display_data"
    },
    {
     "name": "stdout",
     "output_type": "stream",
     "text": [
      "value not found 0.31\n",
      "value not found 0.31\n"
     ]
    },
    {
     "data": {
      "application/vnd.jupyter.widget-view+json": {
       "model_id": "",
       "version_major": 2,
       "version_minor": 0
      },
      "text/plain": [
       "IntProgress(value=0, description='Randomization Test', max=10)"
      ]
     },
     "metadata": {},
     "output_type": "display_data"
    },
    {
     "data": {
      "application/vnd.jupyter.widget-view+json": {
       "model_id": "",
       "version_major": 2,
       "version_minor": 0
      },
      "text/plain": [
       "IntProgress(value=0, description='Randomization Test', max=10)"
      ]
     },
     "metadata": {},
     "output_type": "display_data"
    },
    {
     "name": "stdout",
     "output_type": "stream",
     "text": [
      "value not found 0.44\n",
      "value not found 0.44\n"
     ]
    },
    {
     "data": {
      "application/vnd.jupyter.widget-view+json": {
       "model_id": "",
       "version_major": 2,
       "version_minor": 0
      },
      "text/plain": [
       "IntProgress(value=0, description='Randomization Test', max=10)"
      ]
     },
     "metadata": {},
     "output_type": "display_data"
    },
    {
     "data": {
      "application/vnd.jupyter.widget-view+json": {
       "model_id": "",
       "version_major": 2,
       "version_minor": 0
      },
      "text/plain": [
       "IntProgress(value=0, description='Randomization Test', max=10)"
      ]
     },
     "metadata": {},
     "output_type": "display_data"
    },
    {
     "name": "stdout",
     "output_type": "stream",
     "text": [
      "value not found 0.61\n"
     ]
    },
    {
     "data": {
      "application/vnd.jupyter.widget-view+json": {
       "model_id": "",
       "version_major": 2,
       "version_minor": 0
      },
      "text/plain": [
       "IntProgress(value=0, description='Randomization Test', max=10)"
      ]
     },
     "metadata": {},
     "output_type": "display_data"
    },
    {
     "data": {
      "application/vnd.jupyter.widget-view+json": {
       "model_id": "",
       "version_major": 2,
       "version_minor": 0
      },
      "text/plain": [
       "IntProgress(value=0, description='Randomization Test', max=10)"
      ]
     },
     "metadata": {},
     "output_type": "display_data"
    },
    {
     "name": "stdout",
     "output_type": "stream",
     "text": [
      "value not found 0.65\n"
     ]
    },
    {
     "data": {
      "application/vnd.jupyter.widget-view+json": {
       "model_id": "",
       "version_major": 2,
       "version_minor": 0
      },
      "text/plain": [
       "IntProgress(value=0, description='Randomization Test', max=10)"
      ]
     },
     "metadata": {},
     "output_type": "display_data"
    },
    {
     "data": {
      "application/vnd.jupyter.widget-view+json": {
       "model_id": "",
       "version_major": 2,
       "version_minor": 0
      },
      "text/plain": [
       "IntProgress(value=0, description='Randomization Test', max=10)"
      ]
     },
     "metadata": {},
     "output_type": "display_data"
    },
    {
     "name": "stdout",
     "output_type": "stream",
     "text": [
      "value not found 0.77\n",
      "value not found 0.77\n"
     ]
    },
    {
     "data": {
      "application/vnd.jupyter.widget-view+json": {
       "model_id": "",
       "version_major": 2,
       "version_minor": 0
      },
      "text/plain": [
       "IntProgress(value=0, description='Randomization Test', max=10)"
      ]
     },
     "metadata": {},
     "output_type": "display_data"
    },
    {
     "data": {
      "application/vnd.jupyter.widget-view+json": {
       "model_id": "",
       "version_major": 2,
       "version_minor": 0
      },
      "text/plain": [
       "IntProgress(value=0, description='Randomization Test', max=10)"
      ]
     },
     "metadata": {},
     "output_type": "display_data"
    },
    {
     "name": "stdout",
     "output_type": "stream",
     "text": [
      "value not found 0.82\n"
     ]
    },
    {
     "data": {
      "application/vnd.jupyter.widget-view+json": {
       "model_id": "",
       "version_major": 2,
       "version_minor": 0
      },
      "text/plain": [
       "IntProgress(value=0, description='Randomization Test', max=10)"
      ]
     },
     "metadata": {},
     "output_type": "display_data"
    },
    {
     "data": {
      "application/vnd.jupyter.widget-view+json": {
       "model_id": "",
       "version_major": 2,
       "version_minor": 0
      },
      "text/plain": [
       "IntProgress(value=0, description='Randomization Test', max=10)"
      ]
     },
     "metadata": {},
     "output_type": "display_data"
    },
    {
     "name": "stdout",
     "output_type": "stream",
     "text": [
      "value not found 0.86\n"
     ]
    },
    {
     "data": {
      "application/vnd.jupyter.widget-view+json": {
       "model_id": "",
       "version_major": 2,
       "version_minor": 0
      },
      "text/plain": [
       "  0%|          | 0/7 [00:00<?, ?it/s]"
      ]
     },
     "metadata": {},
     "output_type": "display_data"
    },
    {
     "data": {
      "application/vnd.jupyter.widget-view+json": {
       "model_id": "",
       "version_major": 2,
       "version_minor": 0
      },
      "text/plain": [
       "IntProgress(value=0, description='Randomization Test', max=10)"
      ]
     },
     "metadata": {},
     "output_type": "display_data"
    },
    {
     "data": {
      "application/vnd.jupyter.widget-view+json": {
       "model_id": "",
       "version_major": 2,
       "version_minor": 0
      },
      "text/plain": [
       "IntProgress(value=0, description='Randomization Test', max=10)"
      ]
     },
     "metadata": {},
     "output_type": "display_data"
    },
    {
     "name": "stdout",
     "output_type": "stream",
     "text": [
      "value not found 0.31\n"
     ]
    },
    {
     "data": {
      "application/vnd.jupyter.widget-view+json": {
       "model_id": "",
       "version_major": 2,
       "version_minor": 0
      },
      "text/plain": [
       "IntProgress(value=0, description='Randomization Test', max=10)"
      ]
     },
     "metadata": {},
     "output_type": "display_data"
    },
    {
     "data": {
      "application/vnd.jupyter.widget-view+json": {
       "model_id": "",
       "version_major": 2,
       "version_minor": 0
      },
      "text/plain": [
       "IntProgress(value=0, description='Randomization Test', max=10)"
      ]
     },
     "metadata": {},
     "output_type": "display_data"
    },
    {
     "data": {
      "application/vnd.jupyter.widget-view+json": {
       "model_id": "",
       "version_major": 2,
       "version_minor": 0
      },
      "text/plain": [
       "IntProgress(value=0, description='Randomization Test', max=10)"
      ]
     },
     "metadata": {},
     "output_type": "display_data"
    },
    {
     "data": {
      "application/vnd.jupyter.widget-view+json": {
       "model_id": "",
       "version_major": 2,
       "version_minor": 0
      },
      "text/plain": [
       "IntProgress(value=0, description='Randomization Test', max=10)"
      ]
     },
     "metadata": {},
     "output_type": "display_data"
    },
    {
     "name": "stdout",
     "output_type": "stream",
     "text": [
      "value not found 0.61\n",
      "value not found 0.61\n"
     ]
    },
    {
     "data": {
      "application/vnd.jupyter.widget-view+json": {
       "model_id": "",
       "version_major": 2,
       "version_minor": 0
      },
      "text/plain": [
       "IntProgress(value=0, description='Randomization Test', max=10)"
      ]
     },
     "metadata": {},
     "output_type": "display_data"
    },
    {
     "data": {
      "application/vnd.jupyter.widget-view+json": {
       "model_id": "",
       "version_major": 2,
       "version_minor": 0
      },
      "text/plain": [
       "IntProgress(value=0, description='Randomization Test', max=10)"
      ]
     },
     "metadata": {},
     "output_type": "display_data"
    },
    {
     "name": "stdout",
     "output_type": "stream",
     "text": [
      "value not found 0.65\n",
      "value not found 0.65\n"
     ]
    },
    {
     "data": {
      "application/vnd.jupyter.widget-view+json": {
       "model_id": "",
       "version_major": 2,
       "version_minor": 0
      },
      "text/plain": [
       "IntProgress(value=0, description='Randomization Test', max=10)"
      ]
     },
     "metadata": {},
     "output_type": "display_data"
    },
    {
     "data": {
      "application/vnd.jupyter.widget-view+json": {
       "model_id": "",
       "version_major": 2,
       "version_minor": 0
      },
      "text/plain": [
       "IntProgress(value=0, description='Randomization Test', max=10)"
      ]
     },
     "metadata": {},
     "output_type": "display_data"
    },
    {
     "name": "stdout",
     "output_type": "stream",
     "text": [
      "value not found 0.77\n"
     ]
    },
    {
     "data": {
      "application/vnd.jupyter.widget-view+json": {
       "model_id": "",
       "version_major": 2,
       "version_minor": 0
      },
      "text/plain": [
       "IntProgress(value=0, description='Randomization Test', max=10)"
      ]
     },
     "metadata": {},
     "output_type": "display_data"
    },
    {
     "data": {
      "application/vnd.jupyter.widget-view+json": {
       "model_id": "",
       "version_major": 2,
       "version_minor": 0
      },
      "text/plain": [
       "IntProgress(value=0, description='Randomization Test', max=10)"
      ]
     },
     "metadata": {},
     "output_type": "display_data"
    },
    {
     "name": "stdout",
     "output_type": "stream",
     "text": [
      "value not found 0.82\n",
      "value not found 0.82\n"
     ]
    },
    {
     "data": {
      "application/vnd.jupyter.widget-view+json": {
       "model_id": "",
       "version_major": 2,
       "version_minor": 0
      },
      "text/plain": [
       "IntProgress(value=0, description='Randomization Test', max=10)"
      ]
     },
     "metadata": {},
     "output_type": "display_data"
    },
    {
     "data": {
      "application/vnd.jupyter.widget-view+json": {
       "model_id": "",
       "version_major": 2,
       "version_minor": 0
      },
      "text/plain": [
       "IntProgress(value=0, description='Randomization Test', max=10)"
      ]
     },
     "metadata": {},
     "output_type": "display_data"
    },
    {
     "name": "stdout",
     "output_type": "stream",
     "text": [
      "value not found 0.86\n",
      "value not found 0.86\n"
     ]
    }
   ],
   "source": [
    "for dataset_name in progressbar(datasets_name):\n",
    "    dataset = classification_datasets[dataset_name][split]\n",
    "    scores = y_pred_along_training[dataset_name][split][:, -1]\n",
    "    sentinel_position = best_positions[dataset_name]['LEAR'][Strategy.SENT]\n",
    "    exit_point = sentinel_position - 1\n",
    "    sentinel_scores = y_pred_along_training[dataset_name][split][:, exit_point]\n",
    "    aux_scores = y_pred_along_training_aux_10[dataset_name][split][:, -1]\n",
    "    \n",
    "    classifier_prefix = lgb_classifiers[dataset_name][Strategy.SENT][sentinel_position][k_s]\n",
    "    classifier_aux = lgb_classifiers[dataset_name][Strategy.AUX][50][k_s]\n",
    "\n",
    "    X_pr = get_features(dataset, sentinel_scores)\n",
    "    X_x  = get_features(dataset, aux_scores)\n",
    "    X_prefix = X_pr\n",
    "    X_aux = X_x\n",
    "    \n",
    "    probs_prefix = classifier_prefix.predict(X_prefix)\n",
    "    probs_aux = classifier_aux.predict(X_aux)\n",
    "    \n",
    "    for ct in progressbar(confidence_thresholds):\n",
    "        prefix_clf_mask = probs_prefix >= ct\n",
    "        prefix_clf_scores = mask_scores(prefix_clf_mask, sentinel_scores, scores)\n",
    "        prefix_clf_metric = ndcg_10.eval(dataset, prefix_clf_scores)\n",
    "        prefix_clf_cost = execution_times.query(f'dataset == \\'{dataset_name}\\' and strategy == \\'prefix\\' and model_type == \\'lear\\' and parameter == \\'{ct:.2f}\\'')['dataset_time']\n",
    "        prefix_clf_cost += execution_times.query(f'dataset == \\'{dataset_name}\\' and strategy == \\'prefix\\' and model_type == \\'clf\\'')['dataset_time'].values[0]\n",
    "        pv_prefix = np.array(random_test(ndcg_10.eval(dataset, scores)[1], prefix_clf_metric[1], n_perm=10))\n",
    "        \n",
    "        aux_clf_mask = probs_aux >= ct\n",
    "        aux_clf_scores = mask_scores(aux_clf_mask, aux_scores, scores)\n",
    "        aux_clf_metric = ndcg_10.eval(dataset, aux_clf_scores)\n",
    "        pv_aux = np.array(random_test(ndcg_10.eval(dataset, scores)[1], aux_clf_metric[1], n_perm=10))\n",
    "        \n",
    "        aux_clf_cost = execution_times.query(f'dataset == \\'{dataset_name}\\' and strategy == \\'aux\\' and model_type == \\'lear\\' and parameter == \\'{ct:.2f}\\'')['dataset_time']\n",
    "        aux_clf_cost += execution_times.query(f'dataset == \\'{dataset_name}\\' and strategy == \\'aux\\' and model_type == \\'clf\\'')['dataset_time'].values[0]\n",
    "        aux_clf_cost += execution_times.query(f'dataset == \\'{dataset_name}\\' and strategy == \\'aux\\' and model_type == \\'ranker\\'')['dataset_time'].values[0]\n",
    "        try:\n",
    "            true_performances[dataset_name]['prefix']['clf'][ct] = {\n",
    "                'metric': prefix_clf_metric, \n",
    "                'cost' : prefix_clf_cost.values[0],\n",
    "                'p_value' : pv_prefix\n",
    "            }\n",
    "        except IndexError:\n",
    "            print(f'value not found {ct}')\n",
    "        try:\n",
    "            true_performances[dataset_name]['aux']['clf'][ct] = {\n",
    "                'metric': aux_clf_metric, \n",
    "                'cost' : aux_clf_cost.values[0],\n",
    "                'p_value': pv_aux\n",
    "            }\n",
    "        except IndexError:\n",
    "            print(f'value not found {ct}')"
   ]
  },
  {
   "cell_type": "code",
   "execution_count": null,
   "id": "accepted-congress",
   "metadata": {},
   "outputs": [],
   "source": []
  },
  {
   "cell_type": "code",
   "execution_count": 50,
   "id": "golden-martin",
   "metadata": {},
   "outputs": [],
   "source": [
    "alpha = 0.05"
   ]
  },
  {
   "cell_type": "code",
   "execution_count": 51,
   "id": "legal-apple",
   "metadata": {},
   "outputs": [
    {
     "data": {
      "application/vnd.jupyter.widget-view+json": {
       "model_id": "",
       "version_major": 2,
       "version_minor": 0
      },
      "text/plain": [
       "  0%|          | 0/2 [00:00<?, ?it/s]"
      ]
     },
     "metadata": {},
     "output_type": "display_data"
    },
    {
     "name": "stdout",
     "output_type": "stream",
     "text": [
      "MSN30KF1 prefix ept 0.36 0.5223752 1.830605290596107\n",
      "MSN30KF1 prefix ept 0.42 0.52255213 1.7421421618757778\n",
      "\n",
      "MSN30KF1 prefix clf 0.65 0.52260834 3.1404153964176422\n",
      "MSN30KF1 prefix clf 0.82 0.5209759 3.6811978615862935\n",
      "\n",
      "MSN30KF1 aux ept 0.36 0.52245474 3.778863833972376\n",
      "MSN30KF1 aux ept 0.42 0.5223965 3.5380932521478017\n",
      "\n",
      "MSN30KF1 aux clf 0.61 0.5230883 3.495741393163978\n",
      "MSN30KF1 aux clf 0.86 0.5215613 4.184579141917708\n",
      "\n",
      "\n",
      "ISTELLA-FULL prefix ept 1.37 0.73079413 5.735703344908057\n",
      "ISTELLA-FULL prefix ept 1.5 0.73114705 5.515668439094172\n",
      "\n",
      "ISTELLA-FULL prefix clf 0.31 0.73108965 5.141747162414796\n",
      "ISTELLA-FULL prefix clf 0.44 0.73072326 5.481279272989511\n",
      "\n",
      "ISTELLA-FULL aux ept 1.12 0.73043287 9.681071810954984\n",
      "ISTELLA-FULL aux ept 1.25 0.73084366 9.373982210764368\n",
      "\n",
      "ISTELLA-FULL aux clf 0.44 0.7311051 7.702157056267825\n",
      "ISTELLA-FULL aux clf 0.77 0.7303909 8.99349779760056\n",
      "\n",
      "\n"
     ]
    }
   ],
   "source": [
    "for dataset_name in tqdm.notebook.tqdm(datasets_name, leave=False):\n",
    "    base_t = execution_times.query(f'dataset == \\'{dataset_name}\\' and model_type == \\'baseline\\'')['dataset_time'].values[0]\n",
    "    for kind in ['prefix', 'aux']:\n",
    "        for strategy in ['ept', 'clf']:\n",
    "            for threshold, performances in true_performances[dataset_name][kind][strategy].items():\n",
    "                if len(performances) > 0:\n",
    "                    print(dataset_name, kind, strategy, threshold, performances['metric'][0], base_t / performances['cost'])\n",
    "            \n",
    "            print()\n",
    "    print()"
   ]
  }
 ],
 "metadata": {
  "kernelspec": {
   "display_name": "Python 3",
   "language": "python",
   "name": "python3"
  },
  "language_info": {
   "codemirror_mode": {
    "name": "ipython",
    "version": 3
   },
   "file_extension": ".py",
   "mimetype": "text/x-python",
   "name": "python",
   "nbconvert_exporter": "python",
   "pygments_lexer": "ipython3",
   "version": "3.6.9"
  }
 },
 "nbformat": 4,
 "nbformat_minor": 5
}
